{
  "cells": [
    {
      "cell_type": "markdown",
      "metadata": {
        "id": "view-in-github",
        "colab_type": "text"
      },
      "source": [
        "<a href=\"https://colab.research.google.com/github/TranLuan2608/DemoGson/blob/master/PhoBert_TextClasstifi.ipynb\" target=\"_parent\"><img src=\"https://colab.research.google.com/assets/colab-badge.svg\" alt=\"Open In Colab\"/></a>"
      ]
    },
    {
      "cell_type": "code",
      "execution_count": null,
      "metadata": {
        "colab": {
          "base_uri": "https://localhost:8080/"
        },
        "id": "0Rg5hOVBayW3",
        "outputId": "ea675e27-ed5f-43c8-953b-cf7fa3924d26"
      },
      "outputs": [
        {
          "output_type": "stream",
          "name": "stdout",
          "text": [
            "Requirement already satisfied: openpyxl in /usr/local/lib/python3.10/dist-packages (3.1.2)\n",
            "Requirement already satisfied: et-xmlfile in /usr/local/lib/python3.10/dist-packages (from openpyxl) (1.1.0)\n"
          ]
        }
      ],
      "source": [
        "!pip install openpyxl"
      ]
    },
    {
      "cell_type": "code",
      "execution_count": null,
      "metadata": {
        "colab": {
          "base_uri": "https://localhost:8080/"
        },
        "id": "T1H25Bj6be4Q",
        "outputId": "421fc5f8-9f19-4195-b255-c9dd27bc894d"
      },
      "outputs": [
        {
          "output_type": "stream",
          "name": "stdout",
          "text": [
            "Requirement already satisfied: transformers in /usr/local/lib/python3.10/dist-packages (4.38.2)\n",
            "Requirement already satisfied: filelock in /usr/local/lib/python3.10/dist-packages (from transformers) (3.13.3)\n",
            "Requirement already satisfied: huggingface-hub<1.0,>=0.19.3 in /usr/local/lib/python3.10/dist-packages (from transformers) (0.20.3)\n",
            "Requirement already satisfied: numpy>=1.17 in /usr/local/lib/python3.10/dist-packages (from transformers) (1.25.2)\n",
            "Requirement already satisfied: packaging>=20.0 in /usr/local/lib/python3.10/dist-packages (from transformers) (24.0)\n",
            "Requirement already satisfied: pyyaml>=5.1 in /usr/local/lib/python3.10/dist-packages (from transformers) (6.0.1)\n",
            "Requirement already satisfied: regex!=2019.12.17 in /usr/local/lib/python3.10/dist-packages (from transformers) (2023.12.25)\n",
            "Requirement already satisfied: requests in /usr/local/lib/python3.10/dist-packages (from transformers) (2.31.0)\n",
            "Requirement already satisfied: tokenizers<0.19,>=0.14 in /usr/local/lib/python3.10/dist-packages (from transformers) (0.15.2)\n",
            "Requirement already satisfied: safetensors>=0.4.1 in /usr/local/lib/python3.10/dist-packages (from transformers) (0.4.2)\n",
            "Requirement already satisfied: tqdm>=4.27 in /usr/local/lib/python3.10/dist-packages (from transformers) (4.66.2)\n",
            "Requirement already satisfied: fsspec>=2023.5.0 in /usr/local/lib/python3.10/dist-packages (from huggingface-hub<1.0,>=0.19.3->transformers) (2023.6.0)\n",
            "Requirement already satisfied: typing-extensions>=3.7.4.3 in /usr/local/lib/python3.10/dist-packages (from huggingface-hub<1.0,>=0.19.3->transformers) (4.10.0)\n",
            "Requirement already satisfied: charset-normalizer<4,>=2 in /usr/local/lib/python3.10/dist-packages (from requests->transformers) (3.3.2)\n",
            "Requirement already satisfied: idna<4,>=2.5 in /usr/local/lib/python3.10/dist-packages (from requests->transformers) (3.6)\n",
            "Requirement already satisfied: urllib3<3,>=1.21.1 in /usr/local/lib/python3.10/dist-packages (from requests->transformers) (2.0.7)\n",
            "Requirement already satisfied: certifi>=2017.4.17 in /usr/local/lib/python3.10/dist-packages (from requests->transformers) (2024.2.2)\n"
          ]
        }
      ],
      "source": [
        "!pip install transformers"
      ]
    },
    {
      "cell_type": "code",
      "execution_count": null,
      "metadata": {
        "id": "p2Tpgt3ubSwn"
      },
      "outputs": [],
      "source": [
        "import torch\n",
        "import numpy as np\n",
        "import pandas as pd\n",
        "import seaborn as sns\n",
        "import matplotlib.pyplot as plt\n",
        "\n",
        "from gensim.utils import simple_preprocess\n",
        "from sklearn.model_selection import StratifiedKFold\n",
        "from sklearn.metrics import classification_report, confusion_matrix\n",
        "\n",
        "import torch.nn as nn\n",
        "from torch.optim import AdamW\n",
        "from torch.utils.data import Dataset, DataLoader\n",
        "\n",
        "from transformers import get_linear_schedule_with_warmup, AutoTokenizer, AutoModel, logging\n",
        "\n",
        "import warnings\n",
        "warnings.filterwarnings(\"ignore\")\n",
        "\n",
        "logging.set_verbosity_error()"
      ]
    },
    {
      "cell_type": "code",
      "execution_count": null,
      "metadata": {
        "id": "3DtNTDXKbmi5"
      },
      "outputs": [],
      "source": [
        "def seed_everything(seed_value):\n",
        "    np.random.seed(seed_value)\n",
        "    torch.manual_seed(seed_value)\n",
        "\n",
        "    if torch.cuda.is_available():\n",
        "        torch.cuda.manual_seed(seed_value)\n",
        "        torch.cuda.manual_seed_all(seed_value)\n",
        "        torch.backends.cudnn.deterministic = True\n",
        "        torch.backends.cudnn.benchmark = True\n",
        "\n",
        "seed_everything(86)"
      ]
    },
    {
      "cell_type": "code",
      "execution_count": null,
      "metadata": {
        "id": "lu6-Z-K6bqaP"
      },
      "outputs": [],
      "source": [
        "device = torch.device('cuda:0' if torch.cuda.is_available() else 'cpu')\n",
        "EPOCHS = 6\n",
        "N_SPLITS = 5"
      ]
    },
    {
      "cell_type": "code",
      "execution_count": null,
      "metadata": {
        "id": "Qn7Sp4hCic_z"
      },
      "outputs": [],
      "source": [
        "def get_data(path):\n",
        "    df = pd.read_excel(path, sheet_name=None)['Sheet1']\n",
        "    df.columns = ['index', 'Label', 'Comment']\n",
        "    # unused column\n",
        "    df.drop(columns=['index'], inplace=True)\n",
        "    return df\n",
        "\n",
        "train_df = get_data('/content/drive/MyDrive/Colab Notebooks/train.xlsx')\n",
        "valid_df = get_data('/content/drive/MyDrive/Colab Notebooks/valid.xlsx')\n",
        "test_df = get_data('/content/drive/MyDrive/Colab Notebooks/test.xlsx')\n",
        "\n",
        "# We will use Kfold later\n",
        "train_df = pd.concat([train_df, valid_df], ignore_index=True)\n",
        "skf = StratifiedKFold(n_splits=N_SPLITS)\n",
        "for fold, (_, val_) in enumerate(skf.split(X=train_df, y=train_df.Label)):\n",
        "    train_df.loc[val_, \"kfold\"] = fold"
      ]
    },
    {
      "cell_type": "code",
      "execution_count": null,
      "metadata": {
        "colab": {
          "base_uri": "https://localhost:8080/",
          "height": 206
        },
        "id": "Udckqkemjel2",
        "outputId": "9ba130cf-737c-4aee-dea2-4764879c53e4"
      },
      "outputs": [
        {
          "output_type": "execute_result",
          "data": {
            "text/plain": [
              "         Label                                            Comment  kfold\n",
              "18    Negative  Thái độ khinh miệt văn hoá mỗi vùng là t k thí...    0.0\n",
              "5828  Positive                                Con nói sợ nữa chứ     4.0\n",
              "4923  Positive                                            yêu thế    4.0\n",
              "5034  Negative  dume , phải con tao thì đéo bao giờ chúng mày ...    3.0\n",
              "372   Positive                             Ngon ...ăn bình thường    0.0"
            ],
            "text/html": [
              "\n",
              "  <div id=\"df-991419fd-6f19-486d-a12b-21cae021a85c\" class=\"colab-df-container\">\n",
              "    <div>\n",
              "<style scoped>\n",
              "    .dataframe tbody tr th:only-of-type {\n",
              "        vertical-align: middle;\n",
              "    }\n",
              "\n",
              "    .dataframe tbody tr th {\n",
              "        vertical-align: top;\n",
              "    }\n",
              "\n",
              "    .dataframe thead th {\n",
              "        text-align: right;\n",
              "    }\n",
              "</style>\n",
              "<table border=\"1\" class=\"dataframe\">\n",
              "  <thead>\n",
              "    <tr style=\"text-align: right;\">\n",
              "      <th></th>\n",
              "      <th>Label</th>\n",
              "      <th>Comment</th>\n",
              "      <th>kfold</th>\n",
              "    </tr>\n",
              "  </thead>\n",
              "  <tbody>\n",
              "    <tr>\n",
              "      <th>18</th>\n",
              "      <td>Negative</td>\n",
              "      <td>Thái độ khinh miệt văn hoá mỗi vùng là t k thí...</td>\n",
              "      <td>0.0</td>\n",
              "    </tr>\n",
              "    <tr>\n",
              "      <th>5828</th>\n",
              "      <td>Positive</td>\n",
              "      <td>Con nói sợ nữa chứ</td>\n",
              "      <td>4.0</td>\n",
              "    </tr>\n",
              "    <tr>\n",
              "      <th>4923</th>\n",
              "      <td>Positive</td>\n",
              "      <td>yêu thế</td>\n",
              "      <td>4.0</td>\n",
              "    </tr>\n",
              "    <tr>\n",
              "      <th>5034</th>\n",
              "      <td>Negative</td>\n",
              "      <td>dume , phải con tao thì đéo bao giờ chúng mày ...</td>\n",
              "      <td>3.0</td>\n",
              "    </tr>\n",
              "    <tr>\n",
              "      <th>372</th>\n",
              "      <td>Positive</td>\n",
              "      <td>Ngon ...ăn bình thường</td>\n",
              "      <td>0.0</td>\n",
              "    </tr>\n",
              "  </tbody>\n",
              "</table>\n",
              "</div>\n",
              "    <div class=\"colab-df-buttons\">\n",
              "\n",
              "  <div class=\"colab-df-container\">\n",
              "    <button class=\"colab-df-convert\" onclick=\"convertToInteractive('df-991419fd-6f19-486d-a12b-21cae021a85c')\"\n",
              "            title=\"Convert this dataframe to an interactive table.\"\n",
              "            style=\"display:none;\">\n",
              "\n",
              "  <svg xmlns=\"http://www.w3.org/2000/svg\" height=\"24px\" viewBox=\"0 -960 960 960\">\n",
              "    <path d=\"M120-120v-720h720v720H120Zm60-500h600v-160H180v160Zm220 220h160v-160H400v160Zm0 220h160v-160H400v160ZM180-400h160v-160H180v160Zm440 0h160v-160H620v160ZM180-180h160v-160H180v160Zm440 0h160v-160H620v160Z\"/>\n",
              "  </svg>\n",
              "    </button>\n",
              "\n",
              "  <style>\n",
              "    .colab-df-container {\n",
              "      display:flex;\n",
              "      gap: 12px;\n",
              "    }\n",
              "\n",
              "    .colab-df-convert {\n",
              "      background-color: #E8F0FE;\n",
              "      border: none;\n",
              "      border-radius: 50%;\n",
              "      cursor: pointer;\n",
              "      display: none;\n",
              "      fill: #1967D2;\n",
              "      height: 32px;\n",
              "      padding: 0 0 0 0;\n",
              "      width: 32px;\n",
              "    }\n",
              "\n",
              "    .colab-df-convert:hover {\n",
              "      background-color: #E2EBFA;\n",
              "      box-shadow: 0px 1px 2px rgba(60, 64, 67, 0.3), 0px 1px 3px 1px rgba(60, 64, 67, 0.15);\n",
              "      fill: #174EA6;\n",
              "    }\n",
              "\n",
              "    .colab-df-buttons div {\n",
              "      margin-bottom: 4px;\n",
              "    }\n",
              "\n",
              "    [theme=dark] .colab-df-convert {\n",
              "      background-color: #3B4455;\n",
              "      fill: #D2E3FC;\n",
              "    }\n",
              "\n",
              "    [theme=dark] .colab-df-convert:hover {\n",
              "      background-color: #434B5C;\n",
              "      box-shadow: 0px 1px 3px 1px rgba(0, 0, 0, 0.15);\n",
              "      filter: drop-shadow(0px 1px 2px rgba(0, 0, 0, 0.3));\n",
              "      fill: #FFFFFF;\n",
              "    }\n",
              "  </style>\n",
              "\n",
              "    <script>\n",
              "      const buttonEl =\n",
              "        document.querySelector('#df-991419fd-6f19-486d-a12b-21cae021a85c button.colab-df-convert');\n",
              "      buttonEl.style.display =\n",
              "        google.colab.kernel.accessAllowed ? 'block' : 'none';\n",
              "\n",
              "      async function convertToInteractive(key) {\n",
              "        const element = document.querySelector('#df-991419fd-6f19-486d-a12b-21cae021a85c');\n",
              "        const dataTable =\n",
              "          await google.colab.kernel.invokeFunction('convertToInteractive',\n",
              "                                                    [key], {});\n",
              "        if (!dataTable) return;\n",
              "\n",
              "        const docLinkHtml = 'Like what you see? Visit the ' +\n",
              "          '<a target=\"_blank\" href=https://colab.research.google.com/notebooks/data_table.ipynb>data table notebook</a>'\n",
              "          + ' to learn more about interactive tables.';\n",
              "        element.innerHTML = '';\n",
              "        dataTable['output_type'] = 'display_data';\n",
              "        await google.colab.output.renderOutput(dataTable, element);\n",
              "        const docLink = document.createElement('div');\n",
              "        docLink.innerHTML = docLinkHtml;\n",
              "        element.appendChild(docLink);\n",
              "      }\n",
              "    </script>\n",
              "  </div>\n",
              "\n",
              "\n",
              "<div id=\"df-5eb66907-a165-472c-86c3-c5d149870f9d\">\n",
              "  <button class=\"colab-df-quickchart\" onclick=\"quickchart('df-5eb66907-a165-472c-86c3-c5d149870f9d')\"\n",
              "            title=\"Suggest charts\"\n",
              "            style=\"display:none;\">\n",
              "\n",
              "<svg xmlns=\"http://www.w3.org/2000/svg\" height=\"24px\"viewBox=\"0 0 24 24\"\n",
              "     width=\"24px\">\n",
              "    <g>\n",
              "        <path d=\"M19 3H5c-1.1 0-2 .9-2 2v14c0 1.1.9 2 2 2h14c1.1 0 2-.9 2-2V5c0-1.1-.9-2-2-2zM9 17H7v-7h2v7zm4 0h-2V7h2v10zm4 0h-2v-4h2v4z\"/>\n",
              "    </g>\n",
              "</svg>\n",
              "  </button>\n",
              "\n",
              "<style>\n",
              "  .colab-df-quickchart {\n",
              "      --bg-color: #E8F0FE;\n",
              "      --fill-color: #1967D2;\n",
              "      --hover-bg-color: #E2EBFA;\n",
              "      --hover-fill-color: #174EA6;\n",
              "      --disabled-fill-color: #AAA;\n",
              "      --disabled-bg-color: #DDD;\n",
              "  }\n",
              "\n",
              "  [theme=dark] .colab-df-quickchart {\n",
              "      --bg-color: #3B4455;\n",
              "      --fill-color: #D2E3FC;\n",
              "      --hover-bg-color: #434B5C;\n",
              "      --hover-fill-color: #FFFFFF;\n",
              "      --disabled-bg-color: #3B4455;\n",
              "      --disabled-fill-color: #666;\n",
              "  }\n",
              "\n",
              "  .colab-df-quickchart {\n",
              "    background-color: var(--bg-color);\n",
              "    border: none;\n",
              "    border-radius: 50%;\n",
              "    cursor: pointer;\n",
              "    display: none;\n",
              "    fill: var(--fill-color);\n",
              "    height: 32px;\n",
              "    padding: 0;\n",
              "    width: 32px;\n",
              "  }\n",
              "\n",
              "  .colab-df-quickchart:hover {\n",
              "    background-color: var(--hover-bg-color);\n",
              "    box-shadow: 0 1px 2px rgba(60, 64, 67, 0.3), 0 1px 3px 1px rgba(60, 64, 67, 0.15);\n",
              "    fill: var(--button-hover-fill-color);\n",
              "  }\n",
              "\n",
              "  .colab-df-quickchart-complete:disabled,\n",
              "  .colab-df-quickchart-complete:disabled:hover {\n",
              "    background-color: var(--disabled-bg-color);\n",
              "    fill: var(--disabled-fill-color);\n",
              "    box-shadow: none;\n",
              "  }\n",
              "\n",
              "  .colab-df-spinner {\n",
              "    border: 2px solid var(--fill-color);\n",
              "    border-color: transparent;\n",
              "    border-bottom-color: var(--fill-color);\n",
              "    animation:\n",
              "      spin 1s steps(1) infinite;\n",
              "  }\n",
              "\n",
              "  @keyframes spin {\n",
              "    0% {\n",
              "      border-color: transparent;\n",
              "      border-bottom-color: var(--fill-color);\n",
              "      border-left-color: var(--fill-color);\n",
              "    }\n",
              "    20% {\n",
              "      border-color: transparent;\n",
              "      border-left-color: var(--fill-color);\n",
              "      border-top-color: var(--fill-color);\n",
              "    }\n",
              "    30% {\n",
              "      border-color: transparent;\n",
              "      border-left-color: var(--fill-color);\n",
              "      border-top-color: var(--fill-color);\n",
              "      border-right-color: var(--fill-color);\n",
              "    }\n",
              "    40% {\n",
              "      border-color: transparent;\n",
              "      border-right-color: var(--fill-color);\n",
              "      border-top-color: var(--fill-color);\n",
              "    }\n",
              "    60% {\n",
              "      border-color: transparent;\n",
              "      border-right-color: var(--fill-color);\n",
              "    }\n",
              "    80% {\n",
              "      border-color: transparent;\n",
              "      border-right-color: var(--fill-color);\n",
              "      border-bottom-color: var(--fill-color);\n",
              "    }\n",
              "    90% {\n",
              "      border-color: transparent;\n",
              "      border-bottom-color: var(--fill-color);\n",
              "    }\n",
              "  }\n",
              "</style>\n",
              "\n",
              "  <script>\n",
              "    async function quickchart(key) {\n",
              "      const quickchartButtonEl =\n",
              "        document.querySelector('#' + key + ' button');\n",
              "      quickchartButtonEl.disabled = true;  // To prevent multiple clicks.\n",
              "      quickchartButtonEl.classList.add('colab-df-spinner');\n",
              "      try {\n",
              "        const charts = await google.colab.kernel.invokeFunction(\n",
              "            'suggestCharts', [key], {});\n",
              "      } catch (error) {\n",
              "        console.error('Error during call to suggestCharts:', error);\n",
              "      }\n",
              "      quickchartButtonEl.classList.remove('colab-df-spinner');\n",
              "      quickchartButtonEl.classList.add('colab-df-quickchart-complete');\n",
              "    }\n",
              "    (() => {\n",
              "      let quickchartButtonEl =\n",
              "        document.querySelector('#df-5eb66907-a165-472c-86c3-c5d149870f9d button');\n",
              "      quickchartButtonEl.style.display =\n",
              "        google.colab.kernel.accessAllowed ? 'block' : 'none';\n",
              "    })();\n",
              "  </script>\n",
              "</div>\n",
              "\n",
              "    </div>\n",
              "  </div>\n"
            ],
            "application/vnd.google.colaboratory.intrinsic+json": {
              "type": "dataframe",
              "summary": "{\n  \"name\": \"train_df\",\n  \"rows\": 5,\n  \"fields\": [\n    {\n      \"column\": \"Label\",\n      \"properties\": {\n        \"dtype\": \"category\",\n        \"num_unique_values\": 2,\n        \"samples\": [\n          \"Positive\",\n          \"Negative\"\n        ],\n        \"semantic_type\": \"\",\n        \"description\": \"\"\n      }\n    },\n    {\n      \"column\": \"Comment\",\n      \"properties\": {\n        \"dtype\": \"string\",\n        \"num_unique_values\": 5,\n        \"samples\": [\n          \"Con n\\u00f3i s\\u1ee3 n\\u1eefa ch\\u1ee9 \",\n          \"Ngon ...\\u0103n b\\u00ecnh th\\u01b0\\u1eddng\"\n        ],\n        \"semantic_type\": \"\",\n        \"description\": \"\"\n      }\n    },\n    {\n      \"column\": \"kfold\",\n      \"properties\": {\n        \"dtype\": \"number\",\n        \"std\": 2.04939015319192,\n        \"min\": 0.0,\n        \"max\": 4.0,\n        \"num_unique_values\": 3,\n        \"samples\": [\n          0.0,\n          4.0\n        ],\n        \"semantic_type\": \"\",\n        \"description\": \"\"\n      }\n    }\n  ]\n}"
            }
          },
          "metadata": {},
          "execution_count": 93
        }
      ],
      "source": [
        "train_df.sample(5)"
      ]
    },
    {
      "cell_type": "code",
      "execution_count": null,
      "metadata": {
        "colab": {
          "base_uri": "https://localhost:8080/"
        },
        "id": "JAFEQxh5jqfL",
        "outputId": "026c01e0-c952-486d-9298-36a7118b70f6"
      },
      "outputs": [
        {
          "output_type": "stream",
          "name": "stdout",
          "text": [
            "<class 'pandas.core.frame.DataFrame'>\n",
            "RangeIndex: 6486 entries, 0 to 6485\n",
            "Data columns (total 3 columns):\n",
            " #   Column   Non-Null Count  Dtype  \n",
            "---  ------   --------------  -----  \n",
            " 0   Label    6486 non-null   object \n",
            " 1   Comment  6486 non-null   object \n",
            " 2   kfold    6486 non-null   float64\n",
            "dtypes: float64(1), object(2)\n",
            "memory usage: 152.1+ KB\n",
            "<class 'pandas.core.frame.DataFrame'>\n",
            "RangeIndex: 1001 entries, 0 to 1000\n",
            "Data columns (total 2 columns):\n",
            " #   Column   Non-Null Count  Dtype \n",
            "---  ------   --------------  ----- \n",
            " 0   Label    1001 non-null   object\n",
            " 1   Comment  1001 non-null   object\n",
            "dtypes: object(2)\n",
            "memory usage: 15.8+ KB\n"
          ]
        },
        {
          "output_type": "execute_result",
          "data": {
            "text/plain": [
              "(None, None)"
            ]
          },
          "metadata": {},
          "execution_count": 94
        }
      ],
      "source": [
        "train_df.info(), test_df.info()"
      ]
    },
    {
      "cell_type": "code",
      "execution_count": null,
      "metadata": {
        "colab": {
          "base_uri": "https://localhost:8080/",
          "height": 466
        },
        "id": "Vatv6Z0pjxo_",
        "outputId": "b95f74a1-8e0f-4d91-c4b9-28ea28f0bbc2"
      },
      "outputs": [
        {
          "output_type": "execute_result",
          "data": {
            "text/plain": [
              "<Axes: xlabel='Label', ylabel='count'>"
            ]
          },
          "metadata": {},
          "execution_count": 95
        },
        {
          "output_type": "display_data",
          "data": {
            "text/plain": [
              "<Figure size 640x480 with 1 Axes>"
            ],
            "image/png": "[encoded data removed]"
          },
          "metadata": {}
        }
      ],
      "source": [
        "sns.countplot(x='Label', data=train_df)"
      ]
    },
    {
      "cell_type": "code",
      "execution_count": null,
      "metadata": {
        "id": "yTZifiM5j18m"
      },
      "outputs": [],
      "source": [
        "tokenizer = AutoTokenizer.from_pretrained(\"vinai/phobert-base\", use_fast=False)\n"
      ]
    },
    {
      "cell_type": "code",
      "execution_count": null,
      "metadata": {
        "id": "SOefvoNGj9rz"
      },
      "outputs": [],
      "source": [
        "class SentimentDataset(Dataset):\n",
        "    def __init__(self, df, tokenizer, max_len=120):\n",
        "        self.df = df\n",
        "        self.max_len = max_len\n",
        "        self.tokenizer = tokenizer\n",
        "\n",
        "    def __len__(self):\n",
        "        return len(self.df)\n",
        "\n",
        "    def __getitem__(self, index):\n",
        "        \"\"\"\n",
        "        To customize dataset, inherit from Dataset class and implement\n",
        "        __len__ & __getitem__\n",
        "        __getitem__ should return\n",
        "            data:\n",
        "                input_ids\n",
        "                attention_masks\n",
        "                text\n",
        "                targets\n",
        "        \"\"\"\n",
        "        row = self.df.iloc[index]\n",
        "        text, label = self.get_input_data(row)\n",
        "\n",
        "        # Encode_plus will:\n",
        "        # (1) split text into token\n",
        "        # (2) Add the '[CLS]' and '[SEP]' token to the start and end\n",
        "        # (3) Truncate/Pad sentence to max length\n",
        "        # (4) Map token to their IDS\n",
        "        # (5) Create attention mask\n",
        "        # (6) Return a dictionary of outputs\n",
        "        encoding = self.tokenizer.encode_plus(\n",
        "            text,\n",
        "            truncation=True,\n",
        "            add_special_tokens=True,\n",
        "            max_length=self.max_len,\n",
        "            padding='max_length',\n",
        "            return_attention_mask=True,\n",
        "            return_token_type_ids=False,\n",
        "            return_tensors='pt',\n",
        "        )\n",
        "\n",
        "        return {\n",
        "            'text': text,\n",
        "            'input_ids': encoding['input_ids'].flatten(),\n",
        "            'attention_masks': encoding['attention_mask'].flatten(),\n",
        "            'targets': torch.tensor(label, dtype=torch.long),\n",
        "        }\n",
        "\n",
        "\n",
        "    def labelencoder(self,text):\n",
        "        if text=='Positive':\n",
        "            return 0\n",
        "        elif text=='Negative':\n",
        "            return 1\n",
        "        else:\n",
        "            return 2\n",
        "\n",
        "    def get_input_data(self, row):\n",
        "        # Preprocessing: {remove icon, special character, lower}\n",
        "        text = row['Comment']\n",
        "        text = ' '.join(simple_preprocess(text))\n",
        "        label = self.labelencoder(row['Label'])\n",
        "\n",
        "        return text, label"
      ]
    },
    {
      "cell_type": "code",
      "execution_count": null,
      "metadata": {
        "colab": {
          "base_uri": "https://localhost:8080/",
          "height": 543
        },
        "id": "laAIl_MPkBBk",
        "outputId": "8e07a905-0da9-434b-ef87-f91019359144"
      },
      "outputs": [
        {
          "output_type": "execute_result",
          "data": {
            "text/plain": [
              "Text(0.5, 9.444444444444438, 'Token Count')"
            ]
          },
          "metadata": {},
          "execution_count": 98
        },
        {
          "output_type": "display_data",
          "data": {
            "text/plain": [
              "<Figure size 500x500 with 1 Axes>"
            ],
            "image/png": "[encoded data removed]"
          },
          "metadata": {}
        }
      ],
      "source": [
        "# Distribution of length of Sentence\n",
        "all_data = train_df.Comment.tolist() + test_df.Comment.tolist()\n",
        "all_data = [' '.join(simple_preprocess(text)) for text in all_data]\n",
        "encoded_text = [tokenizer.encode(text, add_special_tokens=True) for text in all_data]\n",
        "token_lens = [len(text) for text in encoded_text]\n",
        "sns.displot(token_lens)\n",
        "plt.xlim([0,max(token_lens)])\n",
        "plt.xlabel('Token Count')"
      ]
    },
    {
      "cell_type": "code",
      "execution_count": null,
      "metadata": {
        "id": "3W3rLTYPkE1l"
      },
      "outputs": [],
      "source": [
        "class SentimentClassifier(nn.Module):\n",
        "    def __init__(self, n_classes):\n",
        "        super(SentimentClassifier, self).__init__()\n",
        "        self.bert = AutoModel.from_pretrained(\"vinai/phobert-base\")\n",
        "        self.drop = nn.Dropout(p=0.3)\n",
        "        self.fc = nn.Linear(self.bert.config.hidden_size, n_classes)\n",
        "        nn.init.normal_(self.fc.weight, std=0.02)\n",
        "        nn.init.normal_(self.fc.bias, 0)\n",
        "\n",
        "    def forward(self, input_ids, attention_mask):\n",
        "        last_hidden_state, output = self.bert(\n",
        "            input_ids=input_ids,\n",
        "            attention_mask=attention_mask,\n",
        "            return_dict=False # Dropout will errors if without this\n",
        "        )\n",
        "\n",
        "        x = self.drop(output)\n",
        "        x = self.fc(x)\n",
        "        return x"
      ]
    },
    {
      "cell_type": "code",
      "execution_count": null,
      "metadata": {
        "id": "6wDfqxLakIy7"
      },
      "outputs": [],
      "source": [
        "def train(model, criterion, optimizer, train_loader):\n",
        "    model.train()\n",
        "    losses = []\n",
        "    correct = 0\n",
        "\n",
        "    for data in train_loader:\n",
        "        input_ids = data['input_ids'].to(device)\n",
        "        attention_mask = data['attention_masks'].to(device)\n",
        "        targets = data['targets'].to(device)\n",
        "\n",
        "        optimizer.zero_grad()\n",
        "        outputs = model(\n",
        "            input_ids=input_ids,\n",
        "            attention_mask=attention_mask\n",
        "        )\n",
        "\n",
        "        loss = criterion(outputs, targets)\n",
        "        _, pred = torch.max(outputs, dim=1)\n",
        "\n",
        "        correct += torch.sum(pred == targets)\n",
        "        losses.append(loss.item())\n",
        "        loss.backward()\n",
        "        nn.utils.clip_grad_norm_(model.parameters(), max_norm=1.0)\n",
        "        optimizer.step()\n",
        "        lr_scheduler.step()\n",
        "\n",
        "    print(f'Train Accuracy: {correct.double()/len(train_loader.dataset)} Loss: {np.mean(losses)}')\n",
        "\n",
        "def eval(test_data = False):\n",
        "    model.eval()\n",
        "    losses = []\n",
        "    correct = 0\n",
        "\n",
        "    with torch.no_grad():\n",
        "        data_loader = test_loader if test_data else valid_loader\n",
        "        for data in data_loader:\n",
        "            input_ids = data['input_ids'].to(device)\n",
        "            attention_mask = data['attention_masks'].to(device)\n",
        "            targets = data['targets'].to(device)\n",
        "\n",
        "            outputs = model(\n",
        "                input_ids=input_ids,\n",
        "                attention_mask=attention_mask\n",
        "            )\n",
        "\n",
        "            _, pred = torch.max(outputs, dim=1)\n",
        "\n",
        "            loss = criterion(outputs, targets)\n",
        "            correct += torch.sum(pred == targets)\n",
        "            losses.append(loss.item())\n",
        "\n",
        "    if test_data:\n",
        "        print(f'Test Accuracy: {correct.double()/len(test_loader.dataset)} Loss: {np.mean(losses)}')\n",
        "        return correct.double()/len(test_loader.dataset)\n",
        "    else:\n",
        "        print(f'Valid Accuracy: {correct.double()/len(valid_loader.dataset)} Loss: {np.mean(losses)}')\n",
        "        return correct.double()/len(valid_loader.dataset)"
      ]
    },
    {
      "cell_type": "code",
      "execution_count": null,
      "metadata": {
        "id": "Rc1MqWNGkLEx"
      },
      "outputs": [],
      "source": [
        "def prepare_loaders(df, fold):\n",
        "    df_train = df[df.kfold != fold].reset_index(drop=True)\n",
        "    df_valid = df[df.kfold == fold].reset_index(drop=True)\n",
        "\n",
        "    train_dataset = SentimentDataset(df_train, tokenizer, max_len=120)\n",
        "    valid_dataset = SentimentDataset(df_valid, tokenizer, max_len=120)\n",
        "\n",
        "    train_loader = DataLoader(train_dataset, batch_size=16, shuffle=True, num_workers=2)\n",
        "    valid_loader = DataLoader(valid_dataset, batch_size=16, shuffle=True, num_workers=2)\n",
        "\n",
        "    return train_loader, valid_loader"
      ]
    },
    {
      "cell_type": "code",
      "execution_count": null,
      "metadata": {
        "colab": {
          "base_uri": "https://localhost:8080/"
        },
        "id": "eSKO9d0WkL9T",
        "outputId": "1af509ec-2e45-48a4-8766-1cc6288079db"
      },
      "outputs": [
        {
          "output_type": "stream",
          "name": "stdout",
          "text": [
            "-----------Fold: 1 ------------------\n",
            "Epoch 1/6\n",
            "------------------------------\n",
            "Train Accuracy: 0.5956052428681573 Loss: 0.9616791637127216\n",
            "Valid Accuracy: 0.6964560862865948 Loss: 0.7905773142488991\n",
            "Epoch 2/6\n",
            "------------------------------\n",
            "Train Accuracy: 0.6925597532767925 Loss: 0.7642264371651869\n",
            "Valid Accuracy: 0.7573189522342065 Loss: 0.6383273770532957\n",
            "Epoch 3/6\n",
            "------------------------------\n",
            "Train Accuracy: 0.7656129529683886 Loss: 0.6145881067789518\n",
            "Valid Accuracy: 0.7919876733436055 Loss: 0.5874303899160246\n",
            "Epoch 4/6\n",
            "------------------------------\n",
            "Train Accuracy: 0.8055127216653816 Loss: 0.5040420898565879\n",
            "Valid Accuracy: 0.8151001540832049 Loss: 0.504321042539143\n",
            "Epoch 5/6\n",
            "------------------------------\n",
            "Train Accuracy: 0.8454124903623746 Loss: 0.42817975417925763\n",
            "Valid Accuracy: 0.8374422187981511 Loss: 0.48398909685996977\n",
            "Epoch 6/6\n",
            "------------------------------\n",
            "Train Accuracy: 0.8704703161141094 Loss: 0.3693353309998145\n",
            "Valid Accuracy: 0.8451463790446841 Loss: 0.4884775650755661\n",
            "-----------Fold: 2 ------------------\n",
            "Epoch 1/6\n",
            "------------------------------\n",
            "Train Accuracy: 0.6060898053574869 Loss: 0.99340852865806\n",
            "Valid Accuracy: 0.6468774094063222 Loss: 0.8545086947156162\n",
            "Epoch 2/6\n",
            "------------------------------\n",
            "Train Accuracy: 0.7257660435536711 Loss: 0.698225690309818\n",
            "Valid Accuracy: 0.6730917501927525 Loss: 0.8184636725885112\n",
            "Epoch 3/6\n",
            "------------------------------\n",
            "Train Accuracy: 0.799768741568703 Loss: 0.5431769969371649\n",
            "Valid Accuracy: 0.643793369313801 Loss: 0.9096258231779424\n",
            "Epoch 4/6\n",
            "------------------------------\n",
            "Train Accuracy: 0.8423588359992291 Loss: 0.4366346205197848\n",
            "Valid Accuracy: 0.6599845797995374 Loss: 0.9169546456598654\n",
            "Epoch 5/6\n",
            "------------------------------\n",
            "Train Accuracy: 0.8847562150703411 Loss: 0.34926103848677414\n",
            "Valid Accuracy: 0.6545875096376252 Loss: 1.0538694136435303\n",
            "Epoch 6/6\n",
            "------------------------------\n",
            "Train Accuracy: 0.8974754287916746 Loss: 0.3000958875853282\n",
            "Valid Accuracy: 0.6468774094063222 Loss: 1.1244359466633418\n",
            "-----------Fold: 3 ------------------\n",
            "Epoch 1/6\n",
            "------------------------------\n",
            "Train Accuracy: 0.5887454230102139 Loss: 1.0221951251763564\n",
            "Valid Accuracy: 0.6661526599845797 Loss: 0.81566530993072\n",
            "Epoch 2/6\n",
            "------------------------------\n",
            "Train Accuracy: 0.7140104066294083 Loss: 0.7292211809525123\n",
            "Valid Accuracy: 0.6861989205859675 Loss: 0.8157886851851534\n",
            "Epoch 3/6\n",
            "------------------------------\n",
            "Train Accuracy: 0.786471381769127 Loss: 0.5620237391728621\n",
            "Valid Accuracy: 0.7047031611410948 Loss: 0.8453614995246981\n",
            "Epoch 4/6\n",
            "------------------------------\n",
            "Train Accuracy: 0.8444787049527847 Loss: 0.4313022841627781\n",
            "Valid Accuracy: 0.6114109483423285 Loss: 1.0685214162236307\n",
            "Epoch 5/6\n",
            "------------------------------\n",
            "Train Accuracy: 0.8706879938331085 Loss: 0.36761698393867565\n",
            "Valid Accuracy: 0.6599845797995374 Loss: 1.066219012184841\n",
            "Epoch 6/6\n",
            "------------------------------\n",
            "Train Accuracy: 0.8945846984004625 Loss: 0.3163138833068884\n",
            "Valid Accuracy: 0.6553585196607555 Loss: 1.068061738343137\n",
            "-----------Fold: 4 ------------------\n",
            "Epoch 1/6\n",
            "------------------------------\n",
            "Train Accuracy: 0.598188475621507 Loss: 1.0029694258249724\n",
            "Valid Accuracy: 0.6993060909791827 Loss: 0.8271069537575652\n",
            "Epoch 2/6\n",
            "------------------------------\n",
            "Train Accuracy: 0.7327037964925804 Loss: 0.6903072028893691\n",
            "Valid Accuracy: 0.6900539707016191 Loss: 0.768307680218685\n",
            "Epoch 3/6\n",
            "------------------------------\n",
            "Train Accuracy: 0.8026594719599152 Loss: 0.5324252626070609\n",
            "Valid Accuracy: 0.6939090208172706 Loss: 0.837702008282266\n",
            "Epoch 4/6\n",
            "------------------------------\n",
            "Train Accuracy: 0.847562150703411 Loss: 0.4236548049862568\n",
            "Valid Accuracy: 0.6931380107941403 Loss: 0.8329175753155496\n",
            "Epoch 5/6\n",
            "------------------------------\n",
            "Train Accuracy: 0.887261514742725 Loss: 0.3403490283053655\n",
            "Valid Accuracy: 0.7039321511179645 Loss: 0.9087148472303297\n",
            "Epoch 6/6\n",
            "------------------------------\n",
            "Train Accuracy: 0.9049913278088263 Loss: 0.2849494450367414\n",
            "Valid Accuracy: 0.6977640709329221 Loss: 0.9648754472685296\n",
            "-----------Fold: 5 ------------------\n",
            "Epoch 1/6\n",
            "------------------------------\n",
            "Train Accuracy: 0.574291771054153 Loss: 1.085159661769867\n",
            "Valid Accuracy: 0.7162683114880493 Loss: 0.7946412741411023\n",
            "Epoch 2/6\n",
            "------------------------------\n",
            "Train Accuracy: 0.706879938331085 Loss: 0.7451484933266272\n",
            "Valid Accuracy: 0.748650732459522 Loss: 0.6214411411343551\n",
            "Epoch 3/6\n",
            "------------------------------\n",
            "Train Accuracy: 0.7668144151088842 Loss: 0.6182670462589998\n",
            "Valid Accuracy: 0.79491133384734 Loss: 0.5378836735901309\n",
            "Epoch 4/6\n",
            "------------------------------\n",
            "Train Accuracy: 0.8049720562728849 Loss: 0.5153233560690513\n",
            "Valid Accuracy: 0.8249807247494217 Loss: 0.468573330015671\n",
            "Epoch 5/6\n",
            "------------------------------\n",
            "Train Accuracy: 0.8406243977645018 Loss: 0.4390330377908853\n",
            "Valid Accuracy: 0.8404009252120277 Loss: 0.48977285887046557\n",
            "Epoch 6/6\n",
            "------------------------------\n",
            "Train Accuracy: 0.8683754095201387 Loss: 0.3844390904903412\n",
            "Valid Accuracy: 0.8504240555127216 Loss: 0.4388857732367952\n"
          ]
        }
      ],
      "source": [
        "for fold in range(skf.n_splits):\n",
        "    print(f'-----------Fold: {fold+1} ------------------')\n",
        "    train_loader, valid_loader = prepare_loaders(train_df, fold=fold)\n",
        "    model = SentimentClassifier(n_classes=7).to(device)\n",
        "    criterion = nn.CrossEntropyLoss()\n",
        "    # Recommendation by BERT: lr: 5e-5, 2e-5, 3e-5\n",
        "    # Batchsize: 16, 32\n",
        "    optimizer = AdamW(model.parameters(), lr=2e-5)\n",
        "\n",
        "    lr_scheduler = get_linear_schedule_with_warmup(\n",
        "                optimizer,\n",
        "                num_warmup_steps=0,\n",
        "                num_training_steps=len(train_loader)*EPOCHS\n",
        "            )\n",
        "    best_acc = 0\n",
        "    for epoch in range(EPOCHS):\n",
        "        print(f'Epoch {epoch+1}/{EPOCHS}')\n",
        "        print('-'*30)\n",
        "\n",
        "        train(model, criterion, optimizer, train_loader)\n",
        "        val_acc = eval()\n",
        "\n",
        "        if val_acc > best_acc:\n",
        "            torch.save(model.state_dict(), f'phobert_fold{fold+1}.pth')\n",
        "            best_acc = val_acc"
      ]
    },
    {
      "cell_type": "code",
      "execution_count": null,
      "metadata": {
        "id": "sTe6Sv8ZocvN"
      },
      "outputs": [],
      "source": [
        "def test(data_loader):\n",
        "    models = []\n",
        "    for fold in range(skf.n_splits):\n",
        "        model = SentimentClassifier(n_classes=7)\n",
        "        model.to(device)\n",
        "        model.load_state_dict(torch.load(f'phobert_fold{fold+1}.pth'))\n",
        "        model.eval()\n",
        "        models.append(model)\n",
        "\n",
        "    texts = []\n",
        "    predicts = []\n",
        "    predict_probs = []\n",
        "    real_values = []\n",
        "\n",
        "    for data in data_loader:\n",
        "        text = data['text']\n",
        "        input_ids = data['input_ids'].to(device)\n",
        "        attention_mask = data['attention_masks'].to(device)\n",
        "        targets = data['targets'].to(device)\n",
        "\n",
        "        total_outs = []\n",
        "        for model in models:\n",
        "            with torch.no_grad():\n",
        "                outputs = model(\n",
        "                    input_ids=input_ids,\n",
        "                    attention_mask=attention_mask\n",
        "                )\n",
        "                total_outs.append(outputs)\n",
        "\n",
        "        total_outs = torch.stack(total_outs)\n",
        "        _, pred = torch.max(total_outs.mean(0), dim=1)\n",
        "        texts.extend(text)\n",
        "        predicts.extend(pred)\n",
        "        predict_probs.extend(total_outs.mean(0))\n",
        "        real_values.extend(targets)\n",
        "\n",
        "    predicts = torch.stack(predicts).cpu()\n",
        "    predict_probs = torch.stack(predict_probs).cpu()\n",
        "    real_values = torch.stack(real_values).cpu()\n",
        "    print(classification_report(real_values, predicts))\n",
        "    return real_values, predicts"
      ]
    },
    {
      "cell_type": "code",
      "execution_count": null,
      "metadata": {
        "id": "QGdqB46todWe",
        "colab": {
          "base_uri": "https://localhost:8080/"
        },
        "outputId": "1879a35e-0560-482a-9218-a68b7efabbce"
      },
      "outputs": [
        {
          "output_type": "stream",
          "name": "stdout",
          "text": [
            "              precision    recall  f1-score   support\n",
            "\n",
            "           0       0.46      0.53      0.49       146\n",
            "           1       0.91      0.84      0.87       839\n",
            "           2       0.05      0.19      0.08        16\n",
            "\n",
            "    accuracy                           0.78      1001\n",
            "   macro avg       0.47      0.52      0.48      1001\n",
            "weighted avg       0.83      0.78      0.80      1001\n",
            "\n"
          ]
        }
      ],
      "source": [
        "test_dataset = SentimentDataset(test_df, tokenizer, max_len=50)\n",
        "test_loader = DataLoader(test_dataset, batch_size=16, shuffle=True, num_workers=2)\n",
        "real_values, predicts = test(test_loader)"
      ]
    },
    {
      "cell_type": "code",
      "execution_count": null,
      "metadata": {
        "id": "6mS6fYVuog9F",
        "colab": {
          "base_uri": "https://localhost:8080/",
          "height": 451
        },
        "outputId": "8473fa45-792b-46ad-f39a-e17501c05050"
      },
      "outputs": [
        {
          "output_type": "execute_result",
          "data": {
            "text/plain": [
              "<Axes: >"
            ]
          },
          "metadata": {},
          "execution_count": 105
        },
        {
          "output_type": "display_data",
          "data": {
            "text/plain": [
              "<Figure size 640x480 with 2 Axes>"
            ],
            "image/png": "[encoded data removed]"
          },
          "metadata": {}
        }
      ],
      "source": [
        "class_names = ['Positive', 'Negative', 'Neutral']\n",
        "sns.heatmap(confusion_matrix(real_values, predicts), annot=False, xticklabels = class_names, yticklabels = class_names)"
      ]
    },
    {
      "cell_type": "code",
      "execution_count": null,
      "metadata": {
        "id": "1LvMqSyTojwL"
      },
      "outputs": [],
      "source": [
        "def check_wrong(real_values, predicts):\n",
        "    wrong_arr = []\n",
        "    wrong_label = []\n",
        "    for i in range(len(predicts)):\n",
        "        if predicts[i] != real_values[i]:\n",
        "            wrong_arr.append(i)\n",
        "            wrong_label.append(predicts[i])\n",
        "    return wrong_arr, wrong_label\n",
        "\n",
        "for i in range(15):\n",
        "    print('-'*50)\n",
        "    wrong_arr, wrong_label = check_wrong(real_values, predicts)\n",
        "    print(test_df.iloc[wrong_arr[i]].Sentence)\n",
        "    print(f'Predicted: ({class_names[wrong_label[i]]}) --vs-- Real label: ({class_names[real_values[wrong_arr[i]]]})')"
      ]
    },
    {
      "cell_type": "code",
      "execution_count": null,
      "metadata": {
        "id": "rz6nqsDron4w"
      },
      "outputs": [],
      "source": [
        "def infer(text, tokenizer, max_len=120):\n",
        "    encoded_review = tokenizer.encode_plus(\n",
        "        text,\n",
        "        max_length=max_len,\n",
        "        truncation=True,\n",
        "        add_special_tokens=True,\n",
        "        padding='max_length',\n",
        "        return_attention_mask=True,\n",
        "        return_token_type_ids=False,\n",
        "        return_tensors='pt',\n",
        "    )\n",
        "\n",
        "    input_ids = encoded_review['input_ids'].to(device)\n",
        "    attention_mask = encoded_review['attention_mask'].to(device)\n",
        "\n",
        "    output = model(input_ids, attention_mask)\n",
        "    _, y_pred = torch.max(output, dim=1)\n",
        "\n",
        "    print(f'Text: {text}')\n",
        "    print(f'Sentiment: {class_names[y_pred]}')"
      ]
    },
    {
      "cell_type": "code",
      "execution_count": null,
      "metadata": {
        "colab": {
          "base_uri": "https://localhost:8080/"
        },
        "id": "UkRHhRc7opqf",
        "outputId": "93a8dd31-3bd6-4297-ed41-3b07e14f4344"
      },
      "outputs": [
        {
          "output_type": "stream",
          "name": "stdout",
          "text": [
            "Text: có sao đâu nhở\n",
            "Sentiment: Neutral\n"
          ]
        }
      ],
      "source": [
        "infer('có sao đâu nhở', tokenizer)"
      ]
    },
    {
      "cell_type": "code",
      "source": [
        "infer('Món đó ăn ngon thật chớ', tokenizer)"
      ],
      "metadata": {
        "colab": {
          "base_uri": "https://localhost:8080/"
        },
        "id": "XiDGbaRdjw32",
        "outputId": "9e8db7cb-8638-419d-a6cf-a787b54fdc9e"
      },
      "execution_count": null,
      "outputs": [
        {
          "output_type": "stream",
          "name": "stdout",
          "text": [
            "Text: Món đó ăn ngon thật chớ\n",
            "Sentiment: Positive\n"
          ]
        }
      ]
    },
    {
      "cell_type": "code",
      "source": [
        "infer('chời ơi chời nó hát dở', tokenizer)"
      ],
      "metadata": {
        "colab": {
          "base_uri": "https://localhost:8080/"
        },
        "id": "-DT4YtJ3jxVP",
        "outputId": "118b69c3-1e31-4875-dd50-3c865973f3f0"
      },
      "execution_count": null,
      "outputs": [
        {
          "output_type": "stream",
          "name": "stdout",
          "text": [
            "Text: chời ơi chời nó hát dở\n",
            "Sentiment: Negative\n"
          ]
        }
      ]
    },
    {
      "cell_type": "markdown",
      "source": [
        "#viBert\n"
      ],
      "metadata": {
        "id": "3hd2z0Q9lKK-"
      }
    },
    {
      "cell_type": "code",
      "source": [
        "!pip install openpyxl"
      ],
      "metadata": {
        "colab": {
          "base_uri": "https://localhost:8080/"
        },
        "id": "6ZUK-My1lSnF",
        "outputId": "8afef659-f3a8-4bc4-ff4c-290782d15d74"
      },
      "execution_count": 114,
      "outputs": [
        {
          "output_type": "stream",
          "name": "stdout",
          "text": [
            "Requirement already satisfied: openpyxl in /usr/local/lib/python3.10/dist-packages (3.1.2)\n",
            "Requirement already satisfied: et-xmlfile in /usr/local/lib/python3.10/dist-packages (from openpyxl) (1.1.0)\n"
          ]
        }
      ]
    },
    {
      "cell_type": "code",
      "source": [
        "!pip install transformers"
      ],
      "metadata": {
        "colab": {
          "base_uri": "https://localhost:8080/"
        },
        "id": "wIsJ9yX0lhqk",
        "outputId": "f90c56ee-7dc3-4868-c359-6e3d39ac1338"
      },
      "execution_count": 115,
      "outputs": [
        {
          "output_type": "stream",
          "name": "stdout",
          "text": [
            "Requirement already satisfied: transformers in /usr/local/lib/python3.10/dist-packages (4.38.2)\n",
            "Requirement already satisfied: filelock in /usr/local/lib/python3.10/dist-packages (from transformers) (3.13.3)\n",
            "Requirement already satisfied: huggingface-hub<1.0,>=0.19.3 in /usr/local/lib/python3.10/dist-packages (from transformers) (0.20.3)\n",
            "Requirement already satisfied: numpy>=1.17 in /usr/local/lib/python3.10/dist-packages (from transformers) (1.25.2)\n",
            "Requirement already satisfied: packaging>=20.0 in /usr/local/lib/python3.10/dist-packages (from transformers) (24.0)\n",
            "Requirement already satisfied: pyyaml>=5.1 in /usr/local/lib/python3.10/dist-packages (from transformers) (6.0.1)\n",
            "Requirement already satisfied: regex!=2019.12.17 in /usr/local/lib/python3.10/dist-packages (from transformers) (2023.12.25)\n",
            "Requirement already satisfied: requests in /usr/local/lib/python3.10/dist-packages (from transformers) (2.31.0)\n",
            "Requirement already satisfied: tokenizers<0.19,>=0.14 in /usr/local/lib/python3.10/dist-packages (from transformers) (0.15.2)\n",
            "Requirement already satisfied: safetensors>=0.4.1 in /usr/local/lib/python3.10/dist-packages (from transformers) (0.4.2)\n",
            "Requirement already satisfied: tqdm>=4.27 in /usr/local/lib/python3.10/dist-packages (from transformers) (4.66.2)\n",
            "Requirement already satisfied: fsspec>=2023.5.0 in /usr/local/lib/python3.10/dist-packages (from huggingface-hub<1.0,>=0.19.3->transformers) (2023.6.0)\n",
            "Requirement already satisfied: typing-extensions>=3.7.4.3 in /usr/local/lib/python3.10/dist-packages (from huggingface-hub<1.0,>=0.19.3->transformers) (4.10.0)\n",
            "Requirement already satisfied: charset-normalizer<4,>=2 in /usr/local/lib/python3.10/dist-packages (from requests->transformers) (3.3.2)\n",
            "Requirement already satisfied: idna<4,>=2.5 in /usr/local/lib/python3.10/dist-packages (from requests->transformers) (3.6)\n",
            "Requirement already satisfied: urllib3<3,>=1.21.1 in /usr/local/lib/python3.10/dist-packages (from requests->transformers) (2.0.7)\n",
            "Requirement already satisfied: certifi>=2017.4.17 in /usr/local/lib/python3.10/dist-packages (from requests->transformers) (2024.2.2)\n"
          ]
        }
      ]
    },
    {
      "cell_type": "code",
      "source": [
        "import torch\n",
        "import numpy as np\n",
        "import pandas as pd\n",
        "import seaborn as sns\n",
        "import matplotlib.pyplot as plt\n",
        "\n",
        "from gensim.utils import simple_preprocess\n",
        "from sklearn.model_selection import StratifiedKFold\n",
        "from sklearn.metrics import classification_report, confusion_matrix\n",
        "\n",
        "import torch.nn as nn\n",
        "from torch.optim import AdamW\n",
        "from torch.utils.data import Dataset, DataLoader\n",
        "\n",
        "from transformers import get_linear_schedule_with_warmup, AutoTokenizer, AutoModel, logging\n",
        "\n",
        "import warnings\n",
        "warnings.filterwarnings(\"ignore\")\n",
        "\n",
        "logging.set_verbosity_error()"
      ],
      "metadata": {
        "id": "mM9Nuq9wlhoR"
      },
      "execution_count": 116,
      "outputs": []
    },
    {
      "cell_type": "code",
      "source": [
        "def seed_everything(seed_value):\n",
        "    np.random.seed(seed_value)\n",
        "    torch.manual_seed(seed_value)\n",
        "\n",
        "    if torch.cuda.is_available():\n",
        "        torch.cuda.manual_seed(seed_value)\n",
        "        torch.cuda.manual_seed_all(seed_value)\n",
        "        torch.backends.cudnn.deterministic = True\n",
        "        torch.backends.cudnn.benchmark = True\n",
        "\n",
        "seed_everything(86)"
      ],
      "metadata": {
        "id": "FPHHnQ2MlhmK"
      },
      "execution_count": 117,
      "outputs": []
    },
    {
      "cell_type": "code",
      "source": [
        "device = torch.device('cuda:0' if torch.cuda.is_available() else 'cpu')\n",
        "EPOCHS = 6\n",
        "N_SPLITS = 5"
      ],
      "metadata": {
        "id": "grVHJRk5lhkJ"
      },
      "execution_count": 118,
      "outputs": []
    },
    {
      "cell_type": "code",
      "source": [
        "def get_data(path):\n",
        "    df = pd.read_excel(path, sheet_name=None)['Sheet1']\n",
        "    df.columns = ['index', 'Label', 'Comment']\n",
        "    # unused column\n",
        "    df.drop(columns=['index'], inplace=True)\n",
        "    return df\n",
        "\n",
        "train_df = get_data('/content/drive/MyDrive/Colab Notebooks/train.xlsx')\n",
        "valid_df = get_data('/content/drive/MyDrive/Colab Notebooks/valid.xlsx')\n",
        "test_df = get_data('/content/drive/MyDrive/Colab Notebooks/test.xlsx')\n",
        "\n",
        "# We will use Kfold later\n",
        "train_df = pd.concat([train_df, valid_df], ignore_index=True)\n",
        "skf = StratifiedKFold(n_splits=N_SPLITS)\n",
        "for fold, (_, val_) in enumerate(skf.split(X=train_df, y=train_df.Label)):\n",
        "    train_df.loc[val_, \"kfold\"] = fold"
      ],
      "metadata": {
        "id": "ZXTm0A9QlhiP"
      },
      "execution_count": 119,
      "outputs": []
    },
    {
      "cell_type": "code",
      "source": [
        "train_df.sample(5)"
      ],
      "metadata": {
        "colab": {
          "base_uri": "https://localhost:8080/",
          "height": 206
        },
        "id": "pGSSYy9slhf3",
        "outputId": "5bc1b692-1675-45e3-ec1e-5bdb15f4a426"
      },
      "execution_count": 120,
      "outputs": [
        {
          "output_type": "execute_result",
          "data": {
            "text/plain": [
              "         Label                                            Comment  kfold\n",
              "18    Negative  Thái độ khinh miệt văn hoá mỗi vùng là t k thí...    0.0\n",
              "5828  Positive                                Con nói sợ nữa chứ     4.0\n",
              "4923  Positive                                            yêu thế    4.0\n",
              "5034  Negative  dume , phải con tao thì đéo bao giờ chúng mày ...    3.0\n",
              "372   Positive                             Ngon ...ăn bình thường    0.0"
            ],
            "text/html": [
              "\n",
              "  <div id=\"df-e747034b-dcf7-456f-9913-eef64ad061af\" class=\"colab-df-container\">\n",
              "    <div>\n",
              "<style scoped>\n",
              "    .dataframe tbody tr th:only-of-type {\n",
              "        vertical-align: middle;\n",
              "    }\n",
              "\n",
              "    .dataframe tbody tr th {\n",
              "        vertical-align: top;\n",
              "    }\n",
              "\n",
              "    .dataframe thead th {\n",
              "        text-align: right;\n",
              "    }\n",
              "</style>\n",
              "<table border=\"1\" class=\"dataframe\">\n",
              "  <thead>\n",
              "    <tr style=\"text-align: right;\">\n",
              "      <th></th>\n",
              "      <th>Label</th>\n",
              "      <th>Comment</th>\n",
              "      <th>kfold</th>\n",
              "    </tr>\n",
              "  </thead>\n",
              "  <tbody>\n",
              "    <tr>\n",
              "      <th>18</th>\n",
              "      <td>Negative</td>\n",
              "      <td>Thái độ khinh miệt văn hoá mỗi vùng là t k thí...</td>\n",
              "      <td>0.0</td>\n",
              "    </tr>\n",
              "    <tr>\n",
              "      <th>5828</th>\n",
              "      <td>Positive</td>\n",
              "      <td>Con nói sợ nữa chứ</td>\n",
              "      <td>4.0</td>\n",
              "    </tr>\n",
              "    <tr>\n",
              "      <th>4923</th>\n",
              "      <td>Positive</td>\n",
              "      <td>yêu thế</td>\n",
              "      <td>4.0</td>\n",
              "    </tr>\n",
              "    <tr>\n",
              "      <th>5034</th>\n",
              "      <td>Negative</td>\n",
              "      <td>dume , phải con tao thì đéo bao giờ chúng mày ...</td>\n",
              "      <td>3.0</td>\n",
              "    </tr>\n",
              "    <tr>\n",
              "      <th>372</th>\n",
              "      <td>Positive</td>\n",
              "      <td>Ngon ...ăn bình thường</td>\n",
              "      <td>0.0</td>\n",
              "    </tr>\n",
              "  </tbody>\n",
              "</table>\n",
              "</div>\n",
              "    <div class=\"colab-df-buttons\">\n",
              "\n",
              "  <div class=\"colab-df-container\">\n",
              "    <button class=\"colab-df-convert\" onclick=\"convertToInteractive('df-e747034b-dcf7-456f-9913-eef64ad061af')\"\n",
              "            title=\"Convert this dataframe to an interactive table.\"\n",
              "            style=\"display:none;\">\n",
              "\n",
              "  <svg xmlns=\"http://www.w3.org/2000/svg\" height=\"24px\" viewBox=\"0 -960 960 960\">\n",
              "    <path d=\"M120-120v-720h720v720H120Zm60-500h600v-160H180v160Zm220 220h160v-160H400v160Zm0 220h160v-160H400v160ZM180-400h160v-160H180v160Zm440 0h160v-160H620v160ZM180-180h160v-160H180v160Zm440 0h160v-160H620v160Z\"/>\n",
              "  </svg>\n",
              "    </button>\n",
              "\n",
              "  <style>\n",
              "    .colab-df-container {\n",
              "      display:flex;\n",
              "      gap: 12px;\n",
              "    }\n",
              "\n",
              "    .colab-df-convert {\n",
              "      background-color: #E8F0FE;\n",
              "      border: none;\n",
              "      border-radius: 50%;\n",
              "      cursor: pointer;\n",
              "      display: none;\n",
              "      fill: #1967D2;\n",
              "      height: 32px;\n",
              "      padding: 0 0 0 0;\n",
              "      width: 32px;\n",
              "    }\n",
              "\n",
              "    .colab-df-convert:hover {\n",
              "      background-color: #E2EBFA;\n",
              "      box-shadow: 0px 1px 2px rgba(60, 64, 67, 0.3), 0px 1px 3px 1px rgba(60, 64, 67, 0.15);\n",
              "      fill: #174EA6;\n",
              "    }\n",
              "\n",
              "    .colab-df-buttons div {\n",
              "      margin-bottom: 4px;\n",
              "    }\n",
              "\n",
              "    [theme=dark] .colab-df-convert {\n",
              "      background-color: #3B4455;\n",
              "      fill: #D2E3FC;\n",
              "    }\n",
              "\n",
              "    [theme=dark] .colab-df-convert:hover {\n",
              "      background-color: #434B5C;\n",
              "      box-shadow: 0px 1px 3px 1px rgba(0, 0, 0, 0.15);\n",
              "      filter: drop-shadow(0px 1px 2px rgba(0, 0, 0, 0.3));\n",
              "      fill: #FFFFFF;\n",
              "    }\n",
              "  </style>\n",
              "\n",
              "    <script>\n",
              "      const buttonEl =\n",
              "        document.querySelector('#df-e747034b-dcf7-456f-9913-eef64ad061af button.colab-df-convert');\n",
              "      buttonEl.style.display =\n",
              "        google.colab.kernel.accessAllowed ? 'block' : 'none';\n",
              "\n",
              "      async function convertToInteractive(key) {\n",
              "        const element = document.querySelector('#df-e747034b-dcf7-456f-9913-eef64ad061af');\n",
              "        const dataTable =\n",
              "          await google.colab.kernel.invokeFunction('convertToInteractive',\n",
              "                                                    [key], {});\n",
              "        if (!dataTable) return;\n",
              "\n",
              "        const docLinkHtml = 'Like what you see? Visit the ' +\n",
              "          '<a target=\"_blank\" href=https://colab.research.google.com/notebooks/data_table.ipynb>data table notebook</a>'\n",
              "          + ' to learn more about interactive tables.';\n",
              "        element.innerHTML = '';\n",
              "        dataTable['output_type'] = 'display_data';\n",
              "        await google.colab.output.renderOutput(dataTable, element);\n",
              "        const docLink = document.createElement('div');\n",
              "        docLink.innerHTML = docLinkHtml;\n",
              "        element.appendChild(docLink);\n",
              "      }\n",
              "    </script>\n",
              "  </div>\n",
              "\n",
              "\n",
              "<div id=\"df-eb99760e-e4a1-4ebb-96f8-c096dba0f690\">\n",
              "  <button class=\"colab-df-quickchart\" onclick=\"quickchart('df-eb99760e-e4a1-4ebb-96f8-c096dba0f690')\"\n",
              "            title=\"Suggest charts\"\n",
              "            style=\"display:none;\">\n",
              "\n",
              "<svg xmlns=\"http://www.w3.org/2000/svg\" height=\"24px\"viewBox=\"0 0 24 24\"\n",
              "     width=\"24px\">\n",
              "    <g>\n",
              "        <path d=\"M19 3H5c-1.1 0-2 .9-2 2v14c0 1.1.9 2 2 2h14c1.1 0 2-.9 2-2V5c0-1.1-.9-2-2-2zM9 17H7v-7h2v7zm4 0h-2V7h2v10zm4 0h-2v-4h2v4z\"/>\n",
              "    </g>\n",
              "</svg>\n",
              "  </button>\n",
              "\n",
              "<style>\n",
              "  .colab-df-quickchart {\n",
              "      --bg-color: #E8F0FE;\n",
              "      --fill-color: #1967D2;\n",
              "      --hover-bg-color: #E2EBFA;\n",
              "      --hover-fill-color: #174EA6;\n",
              "      --disabled-fill-color: #AAA;\n",
              "      --disabled-bg-color: #DDD;\n",
              "  }\n",
              "\n",
              "  [theme=dark] .colab-df-quickchart {\n",
              "      --bg-color: #3B4455;\n",
              "      --fill-color: #D2E3FC;\n",
              "      --hover-bg-color: #434B5C;\n",
              "      --hover-fill-color: #FFFFFF;\n",
              "      --disabled-bg-color: #3B4455;\n",
              "      --disabled-fill-color: #666;\n",
              "  }\n",
              "\n",
              "  .colab-df-quickchart {\n",
              "    background-color: var(--bg-color);\n",
              "    border: none;\n",
              "    border-radius: 50%;\n",
              "    cursor: pointer;\n",
              "    display: none;\n",
              "    fill: var(--fill-color);\n",
              "    height: 32px;\n",
              "    padding: 0;\n",
              "    width: 32px;\n",
              "  }\n",
              "\n",
              "  .colab-df-quickchart:hover {\n",
              "    background-color: var(--hover-bg-color);\n",
              "    box-shadow: 0 1px 2px rgba(60, 64, 67, 0.3), 0 1px 3px 1px rgba(60, 64, 67, 0.15);\n",
              "    fill: var(--button-hover-fill-color);\n",
              "  }\n",
              "\n",
              "  .colab-df-quickchart-complete:disabled,\n",
              "  .colab-df-quickchart-complete:disabled:hover {\n",
              "    background-color: var(--disabled-bg-color);\n",
              "    fill: var(--disabled-fill-color);\n",
              "    box-shadow: none;\n",
              "  }\n",
              "\n",
              "  .colab-df-spinner {\n",
              "    border: 2px solid var(--fill-color);\n",
              "    border-color: transparent;\n",
              "    border-bottom-color: var(--fill-color);\n",
              "    animation:\n",
              "      spin 1s steps(1) infinite;\n",
              "  }\n",
              "\n",
              "  @keyframes spin {\n",
              "    0% {\n",
              "      border-color: transparent;\n",
              "      border-bottom-color: var(--fill-color);\n",
              "      border-left-color: var(--fill-color);\n",
              "    }\n",
              "    20% {\n",
              "      border-color: transparent;\n",
              "      border-left-color: var(--fill-color);\n",
              "      border-top-color: var(--fill-color);\n",
              "    }\n",
              "    30% {\n",
              "      border-color: transparent;\n",
              "      border-left-color: var(--fill-color);\n",
              "      border-top-color: var(--fill-color);\n",
              "      border-right-color: var(--fill-color);\n",
              "    }\n",
              "    40% {\n",
              "      border-color: transparent;\n",
              "      border-right-color: var(--fill-color);\n",
              "      border-top-color: var(--fill-color);\n",
              "    }\n",
              "    60% {\n",
              "      border-color: transparent;\n",
              "      border-right-color: var(--fill-color);\n",
              "    }\n",
              "    80% {\n",
              "      border-color: transparent;\n",
              "      border-right-color: var(--fill-color);\n",
              "      border-bottom-color: var(--fill-color);\n",
              "    }\n",
              "    90% {\n",
              "      border-color: transparent;\n",
              "      border-bottom-color: var(--fill-color);\n",
              "    }\n",
              "  }\n",
              "</style>\n",
              "\n",
              "  <script>\n",
              "    async function quickchart(key) {\n",
              "      const quickchartButtonEl =\n",
              "        document.querySelector('#' + key + ' button');\n",
              "      quickchartButtonEl.disabled = true;  // To prevent multiple clicks.\n",
              "      quickchartButtonEl.classList.add('colab-df-spinner');\n",
              "      try {\n",
              "        const charts = await google.colab.kernel.invokeFunction(\n",
              "            'suggestCharts', [key], {});\n",
              "      } catch (error) {\n",
              "        console.error('Error during call to suggestCharts:', error);\n",
              "      }\n",
              "      quickchartButtonEl.classList.remove('colab-df-spinner');\n",
              "      quickchartButtonEl.classList.add('colab-df-quickchart-complete');\n",
              "    }\n",
              "    (() => {\n",
              "      let quickchartButtonEl =\n",
              "        document.querySelector('#df-eb99760e-e4a1-4ebb-96f8-c096dba0f690 button');\n",
              "      quickchartButtonEl.style.display =\n",
              "        google.colab.kernel.accessAllowed ? 'block' : 'none';\n",
              "    })();\n",
              "  </script>\n",
              "</div>\n",
              "\n",
              "    </div>\n",
              "  </div>\n"
            ],
            "application/vnd.google.colaboratory.intrinsic+json": {
              "type": "dataframe",
              "summary": "{\n  \"name\": \"train_df\",\n  \"rows\": 5,\n  \"fields\": [\n    {\n      \"column\": \"Label\",\n      \"properties\": {\n        \"dtype\": \"category\",\n        \"num_unique_values\": 2,\n        \"samples\": [\n          \"Positive\",\n          \"Negative\"\n        ],\n        \"semantic_type\": \"\",\n        \"description\": \"\"\n      }\n    },\n    {\n      \"column\": \"Comment\",\n      \"properties\": {\n        \"dtype\": \"string\",\n        \"num_unique_values\": 5,\n        \"samples\": [\n          \"Con n\\u00f3i s\\u1ee3 n\\u1eefa ch\\u1ee9 \",\n          \"Ngon ...\\u0103n b\\u00ecnh th\\u01b0\\u1eddng\"\n        ],\n        \"semantic_type\": \"\",\n        \"description\": \"\"\n      }\n    },\n    {\n      \"column\": \"kfold\",\n      \"properties\": {\n        \"dtype\": \"number\",\n        \"std\": 2.04939015319192,\n        \"min\": 0.0,\n        \"max\": 4.0,\n        \"num_unique_values\": 3,\n        \"samples\": [\n          0.0,\n          4.0\n        ],\n        \"semantic_type\": \"\",\n        \"description\": \"\"\n      }\n    }\n  ]\n}"
            }
          },
          "metadata": {},
          "execution_count": 120
        }
      ]
    },
    {
      "cell_type": "code",
      "source": [
        "train_df.info(), test_df.info()"
      ],
      "metadata": {
        "colab": {
          "base_uri": "https://localhost:8080/"
        },
        "id": "KxoX3F8RlhdL",
        "outputId": "b9f913fc-da8a-489d-d96b-5fa4a02c0335"
      },
      "execution_count": 121,
      "outputs": [
        {
          "output_type": "stream",
          "name": "stdout",
          "text": [
            "<class 'pandas.core.frame.DataFrame'>\n",
            "RangeIndex: 6486 entries, 0 to 6485\n",
            "Data columns (total 3 columns):\n",
            " #   Column   Non-Null Count  Dtype  \n",
            "---  ------   --------------  -----  \n",
            " 0   Label    6486 non-null   object \n",
            " 1   Comment  6486 non-null   object \n",
            " 2   kfold    6486 non-null   float64\n",
            "dtypes: float64(1), object(2)\n",
            "memory usage: 152.1+ KB\n",
            "<class 'pandas.core.frame.DataFrame'>\n",
            "RangeIndex: 1001 entries, 0 to 1000\n",
            "Data columns (total 2 columns):\n",
            " #   Column   Non-Null Count  Dtype \n",
            "---  ------   --------------  ----- \n",
            " 0   Label    1001 non-null   object\n",
            " 1   Comment  1001 non-null   object\n",
            "dtypes: object(2)\n",
            "memory usage: 15.8+ KB\n"
          ]
        },
        {
          "output_type": "execute_result",
          "data": {
            "text/plain": [
              "(None, None)"
            ]
          },
          "metadata": {},
          "execution_count": 121
        }
      ]
    },
    {
      "cell_type": "code",
      "source": [
        "sns.countplot(x='Label', data=train_df)"
      ],
      "metadata": {
        "colab": {
          "base_uri": "https://localhost:8080/",
          "height": 466
        },
        "id": "33_KOd01lhZX",
        "outputId": "23b678c9-7da7-4566-ff37-ecdfd875aee5"
      },
      "execution_count": 122,
      "outputs": [
        {
          "output_type": "execute_result",
          "data": {
            "text/plain": [
              "<Axes: xlabel='Label', ylabel='count'>"
            ]
          },
          "metadata": {},
          "execution_count": 122
        },
        {
          "output_type": "display_data",
          "data": {
            "text/plain": [
              "<Figure size 640x480 with 1 Axes>"
            ],
            "image/png": "[encoded data removed]"
          },
          "metadata": {}
        }
      ]
    },
    {
      "cell_type": "code",
      "source": [
        "tokenizer = AutoTokenizer.from_pretrained(\"FPTAI/vibert-base-cased\", use_fast=False)\n"
      ],
      "metadata": {
        "colab": {
          "base_uri": "https://localhost:8080/",
          "height": 81,
          "referenced_widgets": [
            "da26a35657de48f7855fdfa7df3d601e",
            "fb07d3a68cd04a568650ec857d8aeeea",
            "7446a1997afd4000ac31ccdaa635fe2a",
            "cc858ce2708247cc9fc90563e0c331e0",
            "79afb2069697409fac7794a36ad990a6",
            "c70a040fc5fb43a3b128a5635322f4b8",
            "ba94869e15d8470baa830f44909a7e2e",
            "4286f68f170d40668026afd921a17659",
            "1e836bdaafc84e4fbabb5c0cd798138e",
            "10111ef78bc14f3ba499ede363e70b58",
            "d9e103bac86542cfa3ceda5a85729302",
            "8e40a76235eb45afaccb1f9eeec9d897",
            "c2581bcc27554499986298bdc429946d",
            "c0efdd8738a04cfb84aa5d0a170c605f",
            "c1aefc0c461c44b2b11f93b1cbad3500",
            "e2f5f560753540f889c80fcfa4eddc9b",
            "b09f395fc5744e36a46217efd73e8228",
            "6ddaa51f1ac344c3b0e139b6329cc587",
            "d1d0cd7e7ac4412c98feb0000c595394",
            "1abdf1c3425c4b35ad1526d22578d7e1",
            "4f80c7d469df4f7d9c011f22dd556100",
            "2fb51749729c44b4a32638678a9b1576"
          ]
        },
        "id": "-BsPFTC6lhW4",
        "outputId": "4ec80ac6-2fa6-4414-a474-b9fc7e7a3d45"
      },
      "execution_count": 123,
      "outputs": [
        {
          "output_type": "display_data",
          "data": {
            "text/plain": [
              "config.json:   0%|          | 0.00/1.40k [00:00<?, ?B/s]"
            ],
            "application/vnd.jupyter.widget-view+json": {
              "version_major": 2,
              "version_minor": 0,
              "model_id": "da26a35657de48f7855fdfa7df3d601e"
            }
          },
          "metadata": {}
        },
        {
          "output_type": "display_data",
          "data": {
            "text/plain": [
              "vocab.txt:   0%|          | 0.00/255k [00:00<?, ?B/s]"
            ],
            "application/vnd.jupyter.widget-view+json": {
              "version_major": 2,
              "version_minor": 0,
              "model_id": "8e40a76235eb45afaccb1f9eeec9d897"
            }
          },
          "metadata": {}
        }
      ]
    },
    {
      "cell_type": "code",
      "source": [
        "class SentimentDataset(Dataset):\n",
        "    def __init__(self, df, tokenizer, max_len=120):\n",
        "        self.df = df\n",
        "        self.max_len = max_len\n",
        "        self.tokenizer = tokenizer\n",
        "\n",
        "    def __len__(self):\n",
        "        return len(self.df)\n",
        "\n",
        "    def __getitem__(self, index):\n",
        "        \"\"\"\n",
        "        To customize dataset, inherit from Dataset class and implement\n",
        "        __len__ & __getitem__\n",
        "        __getitem__ should return\n",
        "            data:\n",
        "                input_ids\n",
        "                attention_masks\n",
        "                text\n",
        "                targets\n",
        "        \"\"\"\n",
        "        row = self.df.iloc[index]\n",
        "        text, label = self.get_input_data(row)\n",
        "\n",
        "        # Encode_plus will:\n",
        "        # (1) split text into token\n",
        "        # (2) Add the '[CLS]' and '[SEP]' token to the start and end\n",
        "        # (3) Truncate/Pad sentence to max length\n",
        "        # (4) Map token to their IDS\n",
        "        # (5) Create attention mask\n",
        "        # (6) Return a dictionary of outputs\n",
        "        encoding = self.tokenizer.encode_plus(\n",
        "            text,\n",
        "            truncation=True,\n",
        "            add_special_tokens=True,\n",
        "            max_length=self.max_len,\n",
        "            padding='max_length',\n",
        "            return_attention_mask=True,\n",
        "            return_token_type_ids=False,\n",
        "            return_tensors='pt',\n",
        "        )\n",
        "\n",
        "        return {\n",
        "            'text': text,\n",
        "            'input_ids': encoding['input_ids'].flatten(),\n",
        "            'attention_masks': encoding['attention_mask'].flatten(),\n",
        "            'targets': torch.tensor(label, dtype=torch.long),\n",
        "        }\n",
        "\n",
        "\n",
        "    def labelencoder(self,text):\n",
        "        if text=='Positive':\n",
        "            return 0\n",
        "        elif text=='Negative':\n",
        "            return 1\n",
        "        else:\n",
        "            return 2\n",
        "\n",
        "    def get_input_data(self, row):\n",
        "        # Preprocessing: {remove icon, special character, lower}\n",
        "        text = row['Comment']\n",
        "        text = ' '.join(simple_preprocess(text))\n",
        "        label = self.labelencoder(row['Label'])\n",
        "\n",
        "        return text, label"
      ],
      "metadata": {
        "id": "h65V767IlhDp"
      },
      "execution_count": 124,
      "outputs": []
    },
    {
      "cell_type": "code",
      "source": [
        "# Distribution of length of Sentence\n",
        "all_data = train_df.Comment.tolist() + test_df.Comment.tolist()\n",
        "all_data = [' '.join(simple_preprocess(text)) for text in all_data]\n",
        "encoded_text = [tokenizer.encode(text, add_special_tokens=True) for text in all_data]\n",
        "token_lens = [len(text) for text in encoded_text]\n",
        "sns.displot(token_lens)\n",
        "plt.xlim([0,max(token_lens)])\n",
        "plt.xlabel('Token Count')"
      ],
      "metadata": {
        "colab": {
          "base_uri": "https://localhost:8080/",
          "height": 543
        },
        "id": "1scUI1Aqlg2g",
        "outputId": "12ee058e-8c9f-4ed4-ad62-abb191d4f532"
      },
      "execution_count": 125,
      "outputs": [
        {
          "output_type": "execute_result",
          "data": {
            "text/plain": [
              "Text(0.5, 9.444444444444438, 'Token Count')"
            ]
          },
          "metadata": {},
          "execution_count": 125
        },
        {
          "output_type": "display_data",
          "data": {
            "text/plain": [
              "<Figure size 500x500 with 1 Axes>"
            ],
            "image/png": "[encoded data removed]"
          },
          "metadata": {}
        }
      ]
    },
    {
      "cell_type": "code",
      "source": [
        "class SentimentClassifier(nn.Module):\n",
        "    def __init__(self, n_classes):\n",
        "        super(SentimentClassifier, self).__init__()\n",
        "        self.bert = AutoModel.from_pretrained(\"FPTAI/vibert-base-cased\")\n",
        "        self.drop = nn.Dropout(p=0.3)\n",
        "        self.fc = nn.Linear(self.bert.config.hidden_size, n_classes)\n",
        "        nn.init.normal_(self.fc.weight, std=0.02)\n",
        "        nn.init.normal_(self.fc.bias, 0)\n",
        "\n",
        "    def forward(self, input_ids, attention_mask):\n",
        "        last_hidden_state, output = self.bert(\n",
        "            input_ids=input_ids,\n",
        "            attention_mask=attention_mask,\n",
        "            return_dict=False # Dropout will errors if without this\n",
        "        )\n",
        "\n",
        "        x = self.drop(output)\n",
        "        x = self.fc(x)\n",
        "        return x"
      ],
      "metadata": {
        "id": "OILq33Y9mCWJ"
      },
      "execution_count": 126,
      "outputs": []
    },
    {
      "cell_type": "code",
      "source": [
        "def train(model, criterion, optimizer, train_loader):\n",
        "    model.train()\n",
        "    losses = []\n",
        "    correct = 0\n",
        "\n",
        "    for data in train_loader:\n",
        "        input_ids = data['input_ids'].to(device)\n",
        "        attention_mask = data['attention_masks'].to(device)\n",
        "        targets = data['targets'].to(device)\n",
        "\n",
        "        optimizer.zero_grad()\n",
        "        outputs = model(\n",
        "            input_ids=input_ids,\n",
        "            attention_mask=attention_mask\n",
        "        )\n",
        "\n",
        "        loss = criterion(outputs, targets)\n",
        "        _, pred = torch.max(outputs, dim=1)\n",
        "\n",
        "        correct += torch.sum(pred == targets)\n",
        "        losses.append(loss.item())\n",
        "        loss.backward()\n",
        "        nn.utils.clip_grad_norm_(model.parameters(), max_norm=1.0)\n",
        "        optimizer.step()\n",
        "        lr_scheduler.step()\n",
        "\n",
        "    print(f'Train Accuracy: {correct.double()/len(train_loader.dataset)} Loss: {np.mean(losses)}')\n",
        "\n",
        "def eval(test_data = False):\n",
        "    model.eval()\n",
        "    losses = []\n",
        "    correct = 0\n",
        "\n",
        "    with torch.no_grad():\n",
        "        data_loader = test_loader if test_data else valid_loader\n",
        "        for data in data_loader:\n",
        "            input_ids = data['input_ids'].to(device)\n",
        "            attention_mask = data['attention_masks'].to(device)\n",
        "            targets = data['targets'].to(device)\n",
        "\n",
        "            outputs = model(\n",
        "                input_ids=input_ids,\n",
        "                attention_mask=attention_mask\n",
        "            )\n",
        "\n",
        "            _, pred = torch.max(outputs, dim=1)\n",
        "\n",
        "            loss = criterion(outputs, targets)\n",
        "            correct += torch.sum(pred == targets)\n",
        "            losses.append(loss.item())\n",
        "\n",
        "    if test_data:\n",
        "        print(f'Test Accuracy: {correct.double()/len(test_loader.dataset)} Loss: {np.mean(losses)}')\n",
        "        return correct.double()/len(test_loader.dataset)\n",
        "    else:\n",
        "        print(f'Valid Accuracy: {correct.double()/len(valid_loader.dataset)} Loss: {np.mean(losses)}')\n",
        "        return correct.double()/len(valid_loader.dataset)"
      ],
      "metadata": {
        "id": "21py62ZSmLig"
      },
      "execution_count": 127,
      "outputs": []
    },
    {
      "cell_type": "code",
      "source": [
        "def prepare_loaders(df, fold):\n",
        "    df_train = df[df.kfold != fold].reset_index(drop=True)\n",
        "    df_valid = df[df.kfold == fold].reset_index(drop=True)\n",
        "\n",
        "    train_dataset = SentimentDataset(df_train, tokenizer, max_len=120)\n",
        "    valid_dataset = SentimentDataset(df_valid, tokenizer, max_len=120)\n",
        "\n",
        "    train_loader = DataLoader(train_dataset, batch_size=16, shuffle=True, num_workers=2)\n",
        "    valid_loader = DataLoader(valid_dataset, batch_size=16, shuffle=True, num_workers=2)\n",
        "\n",
        "    return train_loader, valid_loader"
      ],
      "metadata": {
        "id": "kKmF10_VmOMJ"
      },
      "execution_count": 128,
      "outputs": []
    },
    {
      "cell_type": "code",
      "source": [
        "for fold in range(skf.n_splits):\n",
        "    print(f'-----------Fold: {fold+1} ------------------')\n",
        "    train_loader, valid_loader = prepare_loaders(train_df, fold=fold)\n",
        "    model = SentimentClassifier(n_classes=7).to(device)\n",
        "    criterion = nn.CrossEntropyLoss()\n",
        "    # Recommendation by BERT: lr: 5e-5, 2e-5, 3e-5\n",
        "    # Batchsize: 16, 32\n",
        "    optimizer = AdamW(model.parameters(), lr=2e-5)\n",
        "\n",
        "    lr_scheduler = get_linear_schedule_with_warmup(\n",
        "                optimizer,\n",
        "                num_warmup_steps=0,\n",
        "                num_training_steps=len(train_loader)*EPOCHS\n",
        "            )\n",
        "    best_acc = 0\n",
        "    for epoch in range(EPOCHS):\n",
        "        print(f'Epoch {epoch+1}/{EPOCHS}')\n",
        "        print('-'*30)\n",
        "\n",
        "        train(model, criterion, optimizer, train_loader)\n",
        "        val_acc = eval()\n",
        "\n",
        "        if val_acc > best_acc:\n",
        "            torch.save(model.state_dict(), f'vibert_fold{fold+1}.pth')\n",
        "            best_acc = val_acc"
      ],
      "metadata": {
        "colab": {
          "base_uri": "https://localhost:8080/",
          "height": 605,
          "referenced_widgets": [
            "f3840c2ddb7240de9b1c7418a539cb88",
            "faa697a069f84464b9bbe910d0405323",
            "58ecf0380f354d8095237a028c95e986",
            "7c9200565fad419fac41c9f09bb7da8e",
            "21f27464ddbd433089dc5904b262cf05",
            "2481ed863f194c2dbf036026a68fba3d",
            "2b690497f90f4de89edd6d036b5be5d8",
            "e2089d6578584b3b9f7ed0672640e1ab",
            "2cc6966d54a044bb9006930f798e7acf",
            "1351406f887942a69f83d4cc1f3fc652",
            "3a239e5ff24140f58714507753fa242c"
          ]
        },
        "id": "Y1Nc4EVEmRab",
        "outputId": "20602c0c-0fee-4fe6-cc06-fd40156e2882"
      },
      "execution_count": null,
      "outputs": [
        {
          "output_type": "stream",
          "name": "stdout",
          "text": [
            "-----------Fold: 1 ------------------\n"
          ]
        },
        {
          "output_type": "display_data",
          "data": {
            "text/plain": [
              "pytorch_model.bin:   0%|          | 0.00/581M [00:00<?, ?B/s]"
            ],
            "application/vnd.jupyter.widget-view+json": {
              "version_major": 2,
              "version_minor": 0,
              "model_id": "f3840c2ddb7240de9b1c7418a539cb88"
            }
          },
          "metadata": {}
        },
        {
          "output_type": "stream",
          "name": "stdout",
          "text": [
            "Epoch 1/6\n",
            "------------------------------\n",
            "Train Accuracy: 0.6299151888974557 Loss: 0.9276867900444911\n",
            "Valid Accuracy: 0.714175654853621 Loss: 0.7137782242966861\n",
            "Epoch 2/6\n",
            "------------------------------\n",
            "Train Accuracy: 0.7401696222050886 Loss: 0.6792967643646094\n",
            "Valid Accuracy: 0.8166409861325116 Loss: 0.5201213634232196\n",
            "Epoch 3/6\n",
            "------------------------------\n",
            "Train Accuracy: 0.8278720123361604 Loss: 0.48141642194527845\n",
            "Valid Accuracy: 0.8659476117103236 Loss: 0.4146280195109728\n",
            "Epoch 4/6\n",
            "------------------------------\n",
            "Train Accuracy: 0.8914803392444102 Loss: 0.3225720651046588\n",
            "Valid Accuracy: 0.889060092449923 Loss: 0.379192708014715\n",
            "Epoch 5/6\n",
            "------------------------------\n",
            "Train Accuracy: 0.9323438704703161 Loss: 0.2201193839082351\n",
            "Valid Accuracy: 0.9006163328197226 Loss: 0.38497701244110744\n",
            "Epoch 6/6\n",
            "------------------------------\n",
            "Train Accuracy: 0.9512336160370084 Loss: 0.16037626291983403\n",
            "Valid Accuracy: 0.9060092449922958 Loss: 0.3833963176144696\n",
            "-----------Fold: 2 ------------------\n",
            "Epoch 1/6\n",
            "------------------------------\n",
            "Train Accuracy: 0.6082096743110426 Loss: 0.9890621695151696\n",
            "Valid Accuracy: 0.6445643793369313 Loss: 0.8621121986610133\n",
            "Epoch 2/6\n",
            "------------------------------\n"
          ]
        }
      ]
    },
    {
      "cell_type": "code",
      "source": [
        "def test(data_loader):\n",
        "    models = []\n",
        "    for fold in range(skf.n_splits):\n",
        "        model = SentimentClassifier(n_classes=7)\n",
        "        model.to(device)\n",
        "        model.load_state_dict(torch.load(f'vibert_fold{fold+1}.pth'))\n",
        "        model.eval()\n",
        "        models.append(model)\n",
        "\n",
        "    texts = []\n",
        "    predicts = []\n",
        "    predict_probs = []\n",
        "    real_values = []\n",
        "\n",
        "    for data in data_loader:\n",
        "        text = data['text']\n",
        "        input_ids = data['input_ids'].to(device)\n",
        "        attention_mask = data['attention_masks'].to(device)\n",
        "        targets = data['targets'].to(device)\n",
        "\n",
        "        total_outs = []\n",
        "        for model in models:\n",
        "            with torch.no_grad():\n",
        "                outputs = model(\n",
        "                    input_ids=input_ids,\n",
        "                    attention_mask=attention_mask\n",
        "                )\n",
        "                total_outs.append(outputs)\n",
        "\n",
        "        total_outs = torch.stack(total_outs)\n",
        "        _, pred = torch.max(total_outs.mean(0), dim=1)\n",
        "        texts.extend(text)\n",
        "        predicts.extend(pred)\n",
        "        predict_probs.extend(total_outs.mean(0))\n",
        "        real_values.extend(targets)\n",
        "\n",
        "    predicts = torch.stack(predicts).cpu()\n",
        "    predict_probs = torch.stack(predict_probs).cpu()\n",
        "    real_values = torch.stack(real_values).cpu()\n",
        "    print(classification_report(real_values, predicts))\n",
        "    return real_values, predicts"
      ],
      "metadata": {
        "id": "KoUOu_wamUJm"
      },
      "execution_count": null,
      "outputs": []
    },
    {
      "cell_type": "code",
      "source": [
        "test_dataset = SentimentDataset(test_df, tokenizer, max_len=50)\n",
        "test_loader = DataLoader(test_dataset, batch_size=16, shuffle=True, num_workers=2)\n",
        "real_values, predicts = test(test_loader)"
      ],
      "metadata": {
        "id": "vfTJRoksmWPl"
      },
      "execution_count": null,
      "outputs": []
    },
    {
      "cell_type": "code",
      "source": [
        "class_names = ['Positive', 'Negative', 'Neutral']\n",
        "sns.heatmap(confusion_matrix(real_values, predicts), annot=False, xticklabels = class_names, yticklabels = class_names)"
      ],
      "metadata": {
        "id": "aQNyEu_KmYRy"
      },
      "execution_count": null,
      "outputs": []
    },
    {
      "cell_type": "code",
      "source": [
        "def infer(text, tokenizer, max_len=120):\n",
        "    encoded_review = tokenizer.encode_plus(\n",
        "        text,\n",
        "        max_length=max_len,\n",
        "        truncation=True,\n",
        "        add_special_tokens=True,\n",
        "        padding='max_length',\n",
        "        return_attention_mask=True,\n",
        "        return_token_type_ids=False,\n",
        "        return_tensors='pt',\n",
        "    )\n",
        "\n",
        "    input_ids = encoded_review['input_ids'].to(device)\n",
        "    attention_mask = encoded_review['attention_mask'].to(device)\n",
        "\n",
        "    output = model(input_ids, attention_mask)\n",
        "    _, y_pred = torch.max(output, dim=1)\n",
        "\n",
        "    print(f'Text: {text}')\n",
        "    print(f'Sentiment: {class_names[y_pred]}')"
      ],
      "metadata": {
        "id": "Rv4uffEjmcJn"
      },
      "execution_count": null,
      "outputs": []
    },
    {
      "cell_type": "code",
      "source": [
        "infer('có sao đâu nhở', tokenizer)"
      ],
      "metadata": {
        "id": "pFCkt1jGmhLB"
      },
      "execution_count": null,
      "outputs": []
    }
  ],
  "metadata": {
    "colab": {
      "toc_visible": true,
      "provenance": [],
      "gpuType": "T4",
      "mount_file_id": "1IpIbRP8ovMi3DecLnsEO9hpSNovdSJmS",
      "authorship_tag": "ABX9TyMIHfXfdc4TIW4Oc6SYxm21",
      "include_colab_link": true
    },
    "kernelspec": {
      "display_name": "Python 3",
      "name": "python3"
    },
    "language_info": {
      "name": "python"
    },
    "accelerator": "GPU",
    "widgets": {
      "application/vnd.jupyter.widget-state+json": {
        "da26a35657de48f7855fdfa7df3d601e": {
          "model_module": "@jupyter-widgets/controls",
          "model_name": "HBoxModel",
          "model_module_version": "1.5.0",
          "state": {
            "_dom_classes": [],
            "_model_module": "@jupyter-widgets/controls",
            "_model_module_version": "1.5.0",
            "_model_name": "HBoxModel",
            "_view_count": null,
            "_view_module": "@jupyter-widgets/controls",
            "_view_module_version": "1.5.0",
            "_view_name": "HBoxView",
            "box_style": "",
            "children": [
              "IPY_MODEL_fb07d3a68cd04a568650ec857d8aeeea",
              "IPY_MODEL_7446a1997afd4000ac31ccdaa635fe2a",
              "IPY_MODEL_cc858ce2708247cc9fc90563e0c331e0"
            ],
            "layout": "IPY_MODEL_79afb2069697409fac7794a36ad990a6"
          }
        },
        "fb07d3a68cd04a568650ec857d8aeeea": {
          "model_module": "@jupyter-widgets/controls",
          "model_name": "HTMLModel",
          "model_module_version": "1.5.0",
          "state": {
            "_dom_classes": [],
            "_model_module": "@jupyter-widgets/controls",
            "_model_module_version": "1.5.0",
            "_model_name": "HTMLModel",
            "_view_count": null,
            "_view_module": "@jupyter-widgets/controls",
            "_view_module_version": "1.5.0",
            "_view_name": "HTMLView",
            "description": "",
            "description_tooltip": null,
            "layout": "IPY_MODEL_c70a040fc5fb43a3b128a5635322f4b8",
            "placeholder": "​",
            "style": "IPY_MODEL_ba94869e15d8470baa830f44909a7e2e",
            "value": "config.json: 100%"
          }
        },
        "7446a1997afd4000ac31ccdaa635fe2a": {
          "model_module": "@jupyter-widgets/controls",
          "model_name": "FloatProgressModel",
          "model_module_version": "1.5.0",
          "state": {
            "_dom_classes": [],
            "_model_module": "@jupyter-widgets/controls",
            "_model_module_version": "1.5.0",
            "_model_name": "FloatProgressModel",
            "_view_count": null,
            "_view_module": "@jupyter-widgets/controls",
            "_view_module_version": "1.5.0",
            "_view_name": "ProgressView",
            "bar_style": "success",
            "description": "",
            "description_tooltip": null,
            "layout": "IPY_MODEL_4286f68f170d40668026afd921a17659",
            "max": 1403,
            "min": 0,
            "orientation": "horizontal",
            "style": "IPY_MODEL_1e836bdaafc84e4fbabb5c0cd798138e",
            "value": 1403
          }
        },
        "cc858ce2708247cc9fc90563e0c331e0": {
          "model_module": "@jupyter-widgets/controls",
          "model_name": "HTMLModel",
          "model_module_version": "1.5.0",
          "state": {
            "_dom_classes": [],
            "_model_module": "@jupyter-widgets/controls",
            "_model_module_version": "1.5.0",
            "_model_name": "HTMLModel",
            "_view_count": null,
            "_view_module": "@jupyter-widgets/controls",
            "_view_module_version": "1.5.0",
            "_view_name": "HTMLView",
            "description": "",
            "description_tooltip": null,
            "layout": "IPY_MODEL_10111ef78bc14f3ba499ede363e70b58",
            "placeholder": "​",
            "style": "IPY_MODEL_d9e103bac86542cfa3ceda5a85729302",
            "value": " 1.40k/1.40k [00:00&lt;00:00, 40.3kB/s]"
          }
        },
        "79afb2069697409fac7794a36ad990a6": {
          "model_module": "@jupyter-widgets/base",
          "model_name": "LayoutModel",
          "model_module_version": "1.2.0",
          "state": {
            "_model_module": "@jupyter-widgets/base",
            "_model_module_version": "1.2.0",
            "_model_name": "LayoutModel",
            "_view_count": null,
            "_view_module": "@jupyter-widgets/base",
            "_view_module_version": "1.2.0",
            "_view_name": "LayoutView",
            "align_content": null,
            "align_items": null,
            "align_self": null,
            "border": null,
            "bottom": null,
            "display": null,
            "flex": null,
            "flex_flow": null,
            "grid_area": null,
            "grid_auto_columns": null,
            "grid_auto_flow": null,
            "grid_auto_rows": null,
            "grid_column": null,
            "grid_gap": null,
            "grid_row": null,
            "grid_template_areas": null,
            "grid_template_columns": null,
            "grid_template_rows": null,
            "height": null,
            "justify_content": null,
            "justify_items": null,
            "left": null,
            "margin": null,
            "max_height": null,
            "max_width": null,
            "min_height": null,
            "min_width": null,
            "object_fit": null,
            "object_position": null,
            "order": null,
            "overflow": null,
            "overflow_x": null,
            "overflow_y": null,
            "padding": null,
            "right": null,
            "top": null,
            "visibility": null,
            "width": null
          }
        },
        "c70a040fc5fb43a3b128a5635322f4b8": {
          "model_module": "@jupyter-widgets/base",
          "model_name": "LayoutModel",
          "model_module_version": "1.2.0",
          "state": {
            "_model_module": "@jupyter-widgets/base",
            "_model_module_version": "1.2.0",
            "_model_name": "LayoutModel",
            "_view_count": null,
            "_view_module": "@jupyter-widgets/base",
            "_view_module_version": "1.2.0",
            "_view_name": "LayoutView",
            "align_content": null,
            "align_items": null,
            "align_self": null,
            "border": null,
            "bottom": null,
            "display": null,
            "flex": null,
            "flex_flow": null,
            "grid_area": null,
            "grid_auto_columns": null,
            "grid_auto_flow": null,
            "grid_auto_rows": null,
            "grid_column": null,
            "grid_gap": null,
            "grid_row": null,
            "grid_template_areas": null,
            "grid_template_columns": null,
            "grid_template_rows": null,
            "height": null,
            "justify_content": null,
            "justify_items": null,
            "left": null,
            "margin": null,
            "max_height": null,
            "max_width": null,
            "min_height": null,
            "min_width": null,
            "object_fit": null,
            "object_position": null,
            "order": null,
            "overflow": null,
            "overflow_x": null,
            "overflow_y": null,
            "padding": null,
            "right": null,
            "top": null,
            "visibility": null,
            "width": null
          }
        },
        "ba94869e15d8470baa830f44909a7e2e": {
          "model_module": "@jupyter-widgets/controls",
          "model_name": "DescriptionStyleModel",
          "model_module_version": "1.5.0",
          "state": {
            "_model_module": "@jupyter-widgets/controls",
            "_model_module_version": "1.5.0",
            "_model_name": "DescriptionStyleModel",
            "_view_count": null,
            "_view_module": "@jupyter-widgets/base",
            "_view_module_version": "1.2.0",
            "_view_name": "StyleView",
            "description_width": ""
          }
        },
        "4286f68f170d40668026afd921a17659": {
          "model_module": "@jupyter-widgets/base",
          "model_name": "LayoutModel",
          "model_module_version": "1.2.0",
          "state": {
            "_model_module": "@jupyter-widgets/base",
            "_model_module_version": "1.2.0",
            "_model_name": "LayoutModel",
            "_view_count": null,
            "_view_module": "@jupyter-widgets/base",
            "_view_module_version": "1.2.0",
            "_view_name": "LayoutView",
            "align_content": null,
            "align_items": null,
            "align_self": null,
            "border": null,
            "bottom": null,
            "display": null,
            "flex": null,
            "flex_flow": null,
            "grid_area": null,
            "grid_auto_columns": null,
            "grid_auto_flow": null,
            "grid_auto_rows": null,
            "grid_column": null,
            "grid_gap": null,
            "grid_row": null,
            "grid_template_areas": null,
            "grid_template_columns": null,
            "grid_template_rows": null,
            "height": null,
            "justify_content": null,
            "justify_items": null,
            "left": null,
            "margin": null,
            "max_height": null,
            "max_width": null,
            "min_height": null,
            "min_width": null,
            "object_fit": null,
            "object_position": null,
            "order": null,
            "overflow": null,
            "overflow_x": null,
            "overflow_y": null,
            "padding": null,
            "right": null,
            "top": null,
            "visibility": null,
            "width": null
          }
        },
        "1e836bdaafc84e4fbabb5c0cd798138e": {
          "model_module": "@jupyter-widgets/controls",
          "model_name": "ProgressStyleModel",
          "model_module_version": "1.5.0",
          "state": {
            "_model_module": "@jupyter-widgets/controls",
            "_model_module_version": "1.5.0",
            "_model_name": "ProgressStyleModel",
            "_view_count": null,
            "_view_module": "@jupyter-widgets/base",
            "_view_module_version": "1.2.0",
            "_view_name": "StyleView",
            "bar_color": null,
            "description_width": ""
          }
        },
        "10111ef78bc14f3ba499ede363e70b58": {
          "model_module": "@jupyter-widgets/base",
          "model_name": "LayoutModel",
          "model_module_version": "1.2.0",
          "state": {
            "_model_module": "@jupyter-widgets/base",
            "_model_module_version": "1.2.0",
            "_model_name": "LayoutModel",
            "_view_count": null,
            "_view_module": "@jupyter-widgets/base",
            "_view_module_version": "1.2.0",
            "_view_name": "LayoutView",
            "align_content": null,
            "align_items": null,
            "align_self": null,
            "border": null,
            "bottom": null,
            "display": null,
            "flex": null,
            "flex_flow": null,
            "grid_area": null,
            "grid_auto_columns": null,
            "grid_auto_flow": null,
            "grid_auto_rows": null,
            "grid_column": null,
            "grid_gap": null,
            "grid_row": null,
            "grid_template_areas": null,
            "grid_template_columns": null,
            "grid_template_rows": null,
            "height": null,
            "justify_content": null,
            "justify_items": null,
            "left": null,
            "margin": null,
            "max_height": null,
            "max_width": null,
            "min_height": null,
            "min_width": null,
            "object_fit": null,
            "object_position": null,
            "order": null,
            "overflow": null,
            "overflow_x": null,
            "overflow_y": null,
            "padding": null,
            "right": null,
            "top": null,
            "visibility": null,
            "width": null
          }
        },
        "d9e103bac86542cfa3ceda5a85729302": {
          "model_module": "@jupyter-widgets/controls",
          "model_name": "DescriptionStyleModel",
          "model_module_version": "1.5.0",
          "state": {
            "_model_module": "@jupyter-widgets/controls",
            "_model_module_version": "1.5.0",
            "_model_name": "DescriptionStyleModel",
            "_view_count": null,
            "_view_module": "@jupyter-widgets/base",
            "_view_module_version": "1.2.0",
            "_view_name": "StyleView",
            "description_width": ""
          }
        },
        "8e40a76235eb45afaccb1f9eeec9d897": {
          "model_module": "@jupyter-widgets/controls",
          "model_name": "HBoxModel",
          "model_module_version": "1.5.0",
          "state": {
            "_dom_classes": [],
            "_model_module": "@jupyter-widgets/controls",
            "_model_module_version": "1.5.0",
            "_model_name": "HBoxModel",
            "_view_count": null,
            "_view_module": "@jupyter-widgets/controls",
            "_view_module_version": "1.5.0",
            "_view_name": "HBoxView",
            "box_style": "",
            "children": [
              "IPY_MODEL_c2581bcc27554499986298bdc429946d",
              "IPY_MODEL_c0efdd8738a04cfb84aa5d0a170c605f",
              "IPY_MODEL_c1aefc0c461c44b2b11f93b1cbad3500"
            ],
            "layout": "IPY_MODEL_e2f5f560753540f889c80fcfa4eddc9b"
          }
        },
        "c2581bcc27554499986298bdc429946d": {
          "model_module": "@jupyter-widgets/controls",
          "model_name": "HTMLModel",
          "model_module_version": "1.5.0",
          "state": {
            "_dom_classes": [],
            "_model_module": "@jupyter-widgets/controls",
            "_model_module_version": "1.5.0",
            "_model_name": "HTMLModel",
            "_view_count": null,
            "_view_module": "@jupyter-widgets/controls",
            "_view_module_version": "1.5.0",
            "_view_name": "HTMLView",
            "description": "",
            "description_tooltip": null,
            "layout": "IPY_MODEL_b09f395fc5744e36a46217efd73e8228",
            "placeholder": "​",
            "style": "IPY_MODEL_6ddaa51f1ac344c3b0e139b6329cc587",
            "value": "vocab.txt: 100%"
          }
        },
        "c0efdd8738a04cfb84aa5d0a170c605f": {
          "model_module": "@jupyter-widgets/controls",
          "model_name": "FloatProgressModel",
          "model_module_version": "1.5.0",
          "state": {
            "_dom_classes": [],
            "_model_module": "@jupyter-widgets/controls",
            "_model_module_version": "1.5.0",
            "_model_name": "FloatProgressModel",
            "_view_count": null,
            "_view_module": "@jupyter-widgets/controls",
            "_view_module_version": "1.5.0",
            "_view_name": "ProgressView",
            "bar_style": "success",
            "description": "",
            "description_tooltip": null,
            "layout": "IPY_MODEL_d1d0cd7e7ac4412c98feb0000c595394",
            "max": 254703,
            "min": 0,
            "orientation": "horizontal",
            "style": "IPY_MODEL_1abdf1c3425c4b35ad1526d22578d7e1",
            "value": 254703
          }
        },
        "c1aefc0c461c44b2b11f93b1cbad3500": {
          "model_module": "@jupyter-widgets/controls",
          "model_name": "HTMLModel",
          "model_module_version": "1.5.0",
          "state": {
            "_dom_classes": [],
            "_model_module": "@jupyter-widgets/controls",
            "_model_module_version": "1.5.0",
            "_model_name": "HTMLModel",
            "_view_count": null,
            "_view_module": "@jupyter-widgets/controls",
            "_view_module_version": "1.5.0",
            "_view_name": "HTMLView",
            "description": "",
            "description_tooltip": null,
            "layout": "IPY_MODEL_4f80c7d469df4f7d9c011f22dd556100",
            "placeholder": "​",
            "style": "IPY_MODEL_2fb51749729c44b4a32638678a9b1576",
            "value": " 255k/255k [00:00&lt;00:00, 4.56MB/s]"
          }
        },
        "e2f5f560753540f889c80fcfa4eddc9b": {
          "model_module": "@jupyter-widgets/base",
          "model_name": "LayoutModel",
          "model_module_version": "1.2.0",
          "state": {
            "_model_module": "@jupyter-widgets/base",
            "_model_module_version": "1.2.0",
            "_model_name": "LayoutModel",
            "_view_count": null,
            "_view_module": "@jupyter-widgets/base",
            "_view_module_version": "1.2.0",
            "_view_name": "LayoutView",
            "align_content": null,
            "align_items": null,
            "align_self": null,
            "border": null,
            "bottom": null,
            "display": null,
            "flex": null,
            "flex_flow": null,
            "grid_area": null,
            "grid_auto_columns": null,
            "grid_auto_flow": null,
            "grid_auto_rows": null,
            "grid_column": null,
            "grid_gap": null,
            "grid_row": null,
            "grid_template_areas": null,
            "grid_template_columns": null,
            "grid_template_rows": null,
            "height": null,
            "justify_content": null,
            "justify_items": null,
            "left": null,
            "margin": null,
            "max_height": null,
            "max_width": null,
            "min_height": null,
            "min_width": null,
            "object_fit": null,
            "object_position": null,
            "order": null,
            "overflow": null,
            "overflow_x": null,
            "overflow_y": null,
            "padding": null,
            "right": null,
            "top": null,
            "visibility": null,
            "width": null
          }
        },
        "b09f395fc5744e36a46217efd73e8228": {
          "model_module": "@jupyter-widgets/base",
          "model_name": "LayoutModel",
          "model_module_version": "1.2.0",
          "state": {
            "_model_module": "@jupyter-widgets/base",
            "_model_module_version": "1.2.0",
            "_model_name": "LayoutModel",
            "_view_count": null,
            "_view_module": "@jupyter-widgets/base",
            "_view_module_version": "1.2.0",
            "_view_name": "LayoutView",
            "align_content": null,
            "align_items": null,
            "align_self": null,
            "border": null,
            "bottom": null,
            "display": null,
            "flex": null,
            "flex_flow": null,
            "grid_area": null,
            "grid_auto_columns": null,
            "grid_auto_flow": null,
            "grid_auto_rows": null,
            "grid_column": null,
            "grid_gap": null,
            "grid_row": null,
            "grid_template_areas": null,
            "grid_template_columns": null,
            "grid_template_rows": null,
            "height": null,
            "justify_content": null,
            "justify_items": null,
            "left": null,
            "margin": null,
            "max_height": null,
            "max_width": null,
            "min_height": null,
            "min_width": null,
            "object_fit": null,
            "object_position": null,
            "order": null,
            "overflow": null,
            "overflow_x": null,
            "overflow_y": null,
            "padding": null,
            "right": null,
            "top": null,
            "visibility": null,
            "width": null
          }
        },
        "6ddaa51f1ac344c3b0e139b6329cc587": {
          "model_module": "@jupyter-widgets/controls",
          "model_name": "DescriptionStyleModel",
          "model_module_version": "1.5.0",
          "state": {
            "_model_module": "@jupyter-widgets/controls",
            "_model_module_version": "1.5.0",
            "_model_name": "DescriptionStyleModel",
            "_view_count": null,
            "_view_module": "@jupyter-widgets/base",
            "_view_module_version": "1.2.0",
            "_view_name": "StyleView",
            "description_width": ""
          }
        },
        "d1d0cd7e7ac4412c98feb0000c595394": {
          "model_module": "@jupyter-widgets/base",
          "model_name": "LayoutModel",
          "model_module_version": "1.2.0",
          "state": {
            "_model_module": "@jupyter-widgets/base",
            "_model_module_version": "1.2.0",
            "_model_name": "LayoutModel",
            "_view_count": null,
            "_view_module": "@jupyter-widgets/base",
            "_view_module_version": "1.2.0",
            "_view_name": "LayoutView",
            "align_content": null,
            "align_items": null,
            "align_self": null,
            "border": null,
            "bottom": null,
            "display": null,
            "flex": null,
            "flex_flow": null,
            "grid_area": null,
            "grid_auto_columns": null,
            "grid_auto_flow": null,
            "grid_auto_rows": null,
            "grid_column": null,
            "grid_gap": null,
            "grid_row": null,
            "grid_template_areas": null,
            "grid_template_columns": null,
            "grid_template_rows": null,
            "height": null,
            "justify_content": null,
            "justify_items": null,
            "left": null,
            "margin": null,
            "max_height": null,
            "max_width": null,
            "min_height": null,
            "min_width": null,
            "object_fit": null,
            "object_position": null,
            "order": null,
            "overflow": null,
            "overflow_x": null,
            "overflow_y": null,
            "padding": null,
            "right": null,
            "top": null,
            "visibility": null,
            "width": null
          }
        },
        "1abdf1c3425c4b35ad1526d22578d7e1": {
          "model_module": "@jupyter-widgets/controls",
          "model_name": "ProgressStyleModel",
          "model_module_version": "1.5.0",
          "state": {
            "_model_module": "@jupyter-widgets/controls",
            "_model_module_version": "1.5.0",
            "_model_name": "ProgressStyleModel",
            "_view_count": null,
            "_view_module": "@jupyter-widgets/base",
            "_view_module_version": "1.2.0",
            "_view_name": "StyleView",
            "bar_color": null,
            "description_width": ""
          }
        },
        "4f80c7d469df4f7d9c011f22dd556100": {
          "model_module": "@jupyter-widgets/base",
          "model_name": "LayoutModel",
          "model_module_version": "1.2.0",
          "state": {
            "_model_module": "@jupyter-widgets/base",
            "_model_module_version": "1.2.0",
            "_model_name": "LayoutModel",
            "_view_count": null,
            "_view_module": "@jupyter-widgets/base",
            "_view_module_version": "1.2.0",
            "_view_name": "LayoutView",
            "align_content": null,
            "align_items": null,
            "align_self": null,
            "border": null,
            "bottom": null,
            "display": null,
            "flex": null,
            "flex_flow": null,
            "grid_area": null,
            "grid_auto_columns": null,
            "grid_auto_flow": null,
            "grid_auto_rows": null,
            "grid_column": null,
            "grid_gap": null,
            "grid_row": null,
            "grid_template_areas": null,
            "grid_template_columns": null,
            "grid_template_rows": null,
            "height": null,
            "justify_content": null,
            "justify_items": null,
            "left": null,
            "margin": null,
            "max_height": null,
            "max_width": null,
            "min_height": null,
            "min_width": null,
            "object_fit": null,
            "object_position": null,
            "order": null,
            "overflow": null,
            "overflow_x": null,
            "overflow_y": null,
            "padding": null,
            "right": null,
            "top": null,
            "visibility": null,
            "width": null
          }
        },
        "2fb51749729c44b4a32638678a9b1576": {
          "model_module": "@jupyter-widgets/controls",
          "model_name": "DescriptionStyleModel",
          "model_module_version": "1.5.0",
          "state": {
            "_model_module": "@jupyter-widgets/controls",
            "_model_module_version": "1.5.0",
            "_model_name": "DescriptionStyleModel",
            "_view_count": null,
            "_view_module": "@jupyter-widgets/base",
            "_view_module_version": "1.2.0",
            "_view_name": "StyleView",
            "description_width": ""
          }
        },
        "f3840c2ddb7240de9b1c7418a539cb88": {
          "model_module": "@jupyter-widgets/controls",
          "model_name": "HBoxModel",
          "model_module_version": "1.5.0",
          "state": {
            "_dom_classes": [],
            "_model_module": "@jupyter-widgets/controls",
            "_model_module_version": "1.5.0",
            "_model_name": "HBoxModel",
            "_view_count": null,
            "_view_module": "@jupyter-widgets/controls",
            "_view_module_version": "1.5.0",
            "_view_name": "HBoxView",
            "box_style": "",
            "children": [
              "IPY_MODEL_faa697a069f84464b9bbe910d0405323",
              "IPY_MODEL_58ecf0380f354d8095237a028c95e986",
              "IPY_MODEL_7c9200565fad419fac41c9f09bb7da8e"
            ],
            "layout": "IPY_MODEL_21f27464ddbd433089dc5904b262cf05"
          }
        },
        "faa697a069f84464b9bbe910d0405323": {
          "model_module": "@jupyter-widgets/controls",
          "model_name": "HTMLModel",
          "model_module_version": "1.5.0",
          "state": {
            "_dom_classes": [],
            "_model_module": "@jupyter-widgets/controls",
            "_model_module_version": "1.5.0",
            "_model_name": "HTMLModel",
            "_view_count": null,
            "_view_module": "@jupyter-widgets/controls",
            "_view_module_version": "1.5.0",
            "_view_name": "HTMLView",
            "description": "",
            "description_tooltip": null,
            "layout": "IPY_MODEL_2481ed863f194c2dbf036026a68fba3d",
            "placeholder": "​",
            "style": "IPY_MODEL_2b690497f90f4de89edd6d036b5be5d8",
            "value": "pytorch_model.bin: 100%"
          }
        },
        "58ecf0380f354d8095237a028c95e986": {
          "model_module": "@jupyter-widgets/controls",
          "model_name": "FloatProgressModel",
          "model_module_version": "1.5.0",
          "state": {
            "_dom_classes": [],
            "_model_module": "@jupyter-widgets/controls",
            "_model_module_version": "1.5.0",
            "_model_name": "FloatProgressModel",
            "_view_count": null,
            "_view_module": "@jupyter-widgets/controls",
            "_view_module_version": "1.5.0",
            "_view_name": "ProgressView",
            "bar_style": "success",
            "description": "",
            "description_tooltip": null,
            "layout": "IPY_MODEL_e2089d6578584b3b9f7ed0672640e1ab",
            "max": 581243664,
            "min": 0,
            "orientation": "horizontal",
            "style": "IPY_MODEL_2cc6966d54a044bb9006930f798e7acf",
            "value": 581243664
          }
        },
        "7c9200565fad419fac41c9f09bb7da8e": {
          "model_module": "@jupyter-widgets/controls",
          "model_name": "HTMLModel",
          "model_module_version": "1.5.0",
          "state": {
            "_dom_classes": [],
            "_model_module": "@jupyter-widgets/controls",
            "_model_module_version": "1.5.0",
            "_model_name": "HTMLModel",
            "_view_count": null,
            "_view_module": "@jupyter-widgets/controls",
            "_view_module_version": "1.5.0",
            "_view_name": "HTMLView",
            "description": "",
            "description_tooltip": null,
            "layout": "IPY_MODEL_1351406f887942a69f83d4cc1f3fc652",
            "placeholder": "​",
            "style": "IPY_MODEL_3a239e5ff24140f58714507753fa242c",
            "value": " 581M/581M [00:17&lt;00:00, 26.0MB/s]"
          }
        },
        "21f27464ddbd433089dc5904b262cf05": {
          "model_module": "@jupyter-widgets/base",
          "model_name": "LayoutModel",
          "model_module_version": "1.2.0",
          "state": {
            "_model_module": "@jupyter-widgets/base",
            "_model_module_version": "1.2.0",
            "_model_name": "LayoutModel",
            "_view_count": null,
            "_view_module": "@jupyter-widgets/base",
            "_view_module_version": "1.2.0",
            "_view_name": "LayoutView",
            "align_content": null,
            "align_items": null,
            "align_self": null,
            "border": null,
            "bottom": null,
            "display": null,
            "flex": null,
            "flex_flow": null,
            "grid_area": null,
            "grid_auto_columns": null,
            "grid_auto_flow": null,
            "grid_auto_rows": null,
            "grid_column": null,
            "grid_gap": null,
            "grid_row": null,
            "grid_template_areas": null,
            "grid_template_columns": null,
            "grid_template_rows": null,
            "height": null,
            "justify_content": null,
            "justify_items": null,
            "left": null,
            "margin": null,
            "max_height": null,
            "max_width": null,
            "min_height": null,
            "min_width": null,
            "object_fit": null,
            "object_position": null,
            "order": null,
            "overflow": null,
            "overflow_x": null,
            "overflow_y": null,
            "padding": null,
            "right": null,
            "top": null,
            "visibility": null,
            "width": null
          }
        },
        "2481ed863f194c2dbf036026a68fba3d": {
          "model_module": "@jupyter-widgets/base",
          "model_name": "LayoutModel",
          "model_module_version": "1.2.0",
          "state": {
            "_model_module": "@jupyter-widgets/base",
            "_model_module_version": "1.2.0",
            "_model_name": "LayoutModel",
            "_view_count": null,
            "_view_module": "@jupyter-widgets/base",
            "_view_module_version": "1.2.0",
            "_view_name": "LayoutView",
            "align_content": null,
            "align_items": null,
            "align_self": null,
            "border": null,
            "bottom": null,
            "display": null,
            "flex": null,
            "flex_flow": null,
            "grid_area": null,
            "grid_auto_columns": null,
            "grid_auto_flow": null,
            "grid_auto_rows": null,
            "grid_column": null,
            "grid_gap": null,
            "grid_row": null,
            "grid_template_areas": null,
            "grid_template_columns": null,
            "grid_template_rows": null,
            "height": null,
            "justify_content": null,
            "justify_items": null,
            "left": null,
            "margin": null,
            "max_height": null,
            "max_width": null,
            "min_height": null,
            "min_width": null,
            "object_fit": null,
            "object_position": null,
            "order": null,
            "overflow": null,
            "overflow_x": null,
            "overflow_y": null,
            "padding": null,
            "right": null,
            "top": null,
            "visibility": null,
            "width": null
          }
        },
        "2b690497f90f4de89edd6d036b5be5d8": {
          "model_module": "@jupyter-widgets/controls",
          "model_name": "DescriptionStyleModel",
          "model_module_version": "1.5.0",
          "state": {
            "_model_module": "@jupyter-widgets/controls",
            "_model_module_version": "1.5.0",
            "_model_name": "DescriptionStyleModel",
            "_view_count": null,
            "_view_module": "@jupyter-widgets/base",
            "_view_module_version": "1.2.0",
            "_view_name": "StyleView",
            "description_width": ""
          }
        },
        "e2089d6578584b3b9f7ed0672640e1ab": {
          "model_module": "@jupyter-widgets/base",
          "model_name": "LayoutModel",
          "model_module_version": "1.2.0",
          "state": {
            "_model_module": "@jupyter-widgets/base",
            "_model_module_version": "1.2.0",
            "_model_name": "LayoutModel",
            "_view_count": null,
            "_view_module": "@jupyter-widgets/base",
            "_view_module_version": "1.2.0",
            "_view_name": "LayoutView",
            "align_content": null,
            "align_items": null,
            "align_self": null,
            "border": null,
            "bottom": null,
            "display": null,
            "flex": null,
            "flex_flow": null,
            "grid_area": null,
            "grid_auto_columns": null,
            "grid_auto_flow": null,
            "grid_auto_rows": null,
            "grid_column": null,
            "grid_gap": null,
            "grid_row": null,
            "grid_template_areas": null,
            "grid_template_columns": null,
            "grid_template_rows": null,
            "height": null,
            "justify_content": null,
            "justify_items": null,
            "left": null,
            "margin": null,
            "max_height": null,
            "max_width": null,
            "min_height": null,
            "min_width": null,
            "object_fit": null,
            "object_position": null,
            "order": null,
            "overflow": null,
            "overflow_x": null,
            "overflow_y": null,
            "padding": null,
            "right": null,
            "top": null,
            "visibility": null,
            "width": null
          }
        },
        "2cc6966d54a044bb9006930f798e7acf": {
          "model_module": "@jupyter-widgets/controls",
          "model_name": "ProgressStyleModel",
          "model_module_version": "1.5.0",
          "state": {
            "_model_module": "@jupyter-widgets/controls",
            "_model_module_version": "1.5.0",
            "_model_name": "ProgressStyleModel",
            "_view_count": null,
            "_view_module": "@jupyter-widgets/base",
            "_view_module_version": "1.2.0",
            "_view_name": "StyleView",
            "bar_color": null,
            "description_width": ""
          }
        },
        "1351406f887942a69f83d4cc1f3fc652": {
          "model_module": "@jupyter-widgets/base",
          "model_name": "LayoutModel",
          "model_module_version": "1.2.0",
          "state": {
            "_model_module": "@jupyter-widgets/base",
            "_model_module_version": "1.2.0",
            "_model_name": "LayoutModel",
            "_view_count": null,
            "_view_module": "@jupyter-widgets/base",
            "_view_module_version": "1.2.0",
            "_view_name": "LayoutView",
            "align_content": null,
            "align_items": null,
            "align_self": null,
            "border": null,
            "bottom": null,
            "display": null,
            "flex": null,
            "flex_flow": null,
            "grid_area": null,
            "grid_auto_columns": null,
            "grid_auto_flow": null,
            "grid_auto_rows": null,
            "grid_column": null,
            "grid_gap": null,
            "grid_row": null,
            "grid_template_areas": null,
            "grid_template_columns": null,
            "grid_template_rows": null,
            "height": null,
            "justify_content": null,
            "justify_items": null,
            "left": null,
            "margin": null,
            "max_height": null,
            "max_width": null,
            "min_height": null,
            "min_width": null,
            "object_fit": null,
            "object_position": null,
            "order": null,
            "overflow": null,
            "overflow_x": null,
            "overflow_y": null,
            "padding": null,
            "right": null,
            "top": null,
            "visibility": null,
            "width": null
          }
        },
        "3a239e5ff24140f58714507753fa242c": {
          "model_module": "@jupyter-widgets/controls",
          "model_name": "DescriptionStyleModel",
          "model_module_version": "1.5.0",
          "state": {
            "_model_module": "@jupyter-widgets/controls",
            "_model_module_version": "1.5.0",
            "_model_name": "DescriptionStyleModel",
            "_view_count": null,
            "_view_module": "@jupyter-widgets/base",
            "_view_module_version": "1.2.0",
            "_view_name": "StyleView",
            "description_width": ""
          }
        }
      }
    }
  },
  "nbformat": 4,
  "nbformat_minor": 0
}